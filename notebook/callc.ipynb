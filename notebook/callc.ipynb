{
 "cells": [
  {
   "cell_type": "markdown",
   "id": "cb750c0b",
   "metadata": {},
   "source": [

    "\n",
    "# Calling C/C++ Code in Codon\n",
    "\n",
    "First, use the following command to install `eoscdt` for compiling C or C++ code:"
   ]
  },
  {
   "cell_type": "code",
   "execution_count": null,
   "id": "63b48b14",
   "metadata": {},
   "outputs": [],
   "source": [
    "%%bash\n",
    "python3 -m pip install -U eoscdt"
   ]
  },
  {
   "cell_type": "markdown",
   "id": "58a04322",
   "metadata": {},
   "source": [
    "Next, let's compile the `say_hello` function as an example to demonstrate how to compile code:\n",
    "\n",
    "If the source file is in C, for example:\n",
    "\n",
    "say_hello.c"
   ]
  },
  {
   "cell_type": "code",
   "execution_count": null,
   "id": "bc04a2a6",
   "metadata": {
    "attributes": {
     "classes": [
      "c"
     ],
     "id": ""
    }
   },
   "outputs": [],
   "source": [
    "void prints(const char *s);\n",
    "\n",
    "void say_hello(const char *s) {\n",
    "\tprints(s);\n",
    "}"
   ]
  },
  {
   "cell_type": "markdown",
   "id": "563b01b3",
   "metadata": {},
   "source": [
    "Then use the following command to compile:"
   ]
  },
  {
   "cell_type": "code",
   "execution_count": null,
   "id": "8b1a01bd",
   "metadata": {},
   "outputs": [],
   "source": [
    "%%bash\n",
    "cdt-cc -c -o say_hello.o say_hello.c"
   ]
  },
  {
   "cell_type": "markdown",
   "id": "6791b34e",
   "metadata": {},
   "source": [
    "If the source file is C++ code, for example:\n",
    "\n",
    "say_hello.cpp"
   ]
  },
  {
   "cell_type": "code",
   "execution_count": null,
   "id": "8526a0d5",
   "metadata": {
    "attributes": {
     "classes": [
      "cpp"
     ],
     "id": ""
    }
   },
   "outputs": [],
   "source": [
    "extern \"C\" void prints(const char *s);\n",
    "\n",
    "extern \"C\" void say_hello(const char *s) {\n",
    "\tprints(s);\n",
    "}"
   ]
  },
  {
   "cell_type": "markdown",
   "id": "2a7caaa7",
   "metadata": {},
   "source": [
    "Then use the following command to compile:"
   ]
  },
  {
   "cell_type": "code",
   "execution_count": null,
   "id": "a5002bd3",
   "metadata": {},
   "outputs": [],
   "source": [
    "%%bash\n",
    "cdt-cpp -c -o say_hello.o say_hello.cpp"
   ]
  },
  {
   "cell_type": "markdown",
   "id": "d7000a00",
   "metadata": {},
   "source": [
    "Note that if it is a C++ file, you need to add `extern \"C\"` before the function, otherwise a link error will occur.\n",
    "\n",
    "Next, let's see how to use the `say_hello` function in Codon:\n",
    "\n",
    "test.codon"
   ]
  },
  {
   "cell_type": "code",
   "execution_count": null,
   "id": "b328569d",
   "metadata": {},
   "outputs": [],
   "source": [
    "from chain.contract import Contract\n",
    "\n",
    "from C import say_hello(cobj);\n",
    "\n",
    "@contract(main=True)\n",
    "class MyContract(Contract):\n",
    "\n",
    "    @action(\"sayhello\")\n",
    "    def say_hello(self):\n",
    "        say_hello(\"hello, world\".c_str())"
   ]
  },
  {
   "cell_type": "markdown",
   "id": "713c6d95",
   "metadata": {},
   "source": [
    "Here,"
   ]
  },
  {
   "cell_type": "code",
   "execution_count": null,
   "id": "5393ae92",
   "metadata": {},
   "outputs": [],
   "source": [
    "from C import say_hello(cobj);"
   ]
  },
  {
   "cell_type": "markdown",
   "id": "b58a90b8",
   "metadata": {},
   "source": [
    "tells the Codon compiler to link the say_hello C function. All pointer types in C/C++ correspond to the cobj type in Codon.\n",
    "\n",
    "The following line of code calls the C function, the value returned by `c_str` is of `cobj` type, equivalent to `const char *` type in C/C++."
   ]
  },
  {
   "cell_type": "code",
   "execution_count": null,
   "id": "ef351c26",
   "metadata": {},
   "outputs": [],
   "source": [
    "say_hello(\"abc\".c_str())"
   ]
  },
  {
   "cell_type": "markdown",
   "id": "709f0665",
   "metadata": {},
   "source": [
    "Next, use the following command to compile:"
   ]
  },
  {
   "cell_type": "code",
   "execution_count": null,
   "id": "0b8af050",
   "metadata": {},
   "outputs": [],
   "source": [
    "%%bash\n",
    "python-contract build --linker-flags=\"say_hello.o\" test.codon"
   ]
  },
  {
   "cell_type": "markdown",
   "id": "fe66761b",
   "metadata": {},
   "source": [
    "Here, `--linker-flags=\"say_hello.o\"` tells the compiler to link the `say_hello.o` obj file.\n",
    "\n",
    "Next, use the following code to test:\n",
    "\n",
    "test.py:"
   ]
  },
  {
   "cell_type": "code",
   "execution_count": null,
   "id": "50979e34",
   "metadata": {},
   "outputs": [],
   "source": [
    "import os\n",
    "from ipyeos import eos\n",
    "from ipyeos import chaintester\n",
    "from ipyeos.chaintester import ChainTester\n",
    "from ipyeos import log\n",
    "from pyeoskit import eosapi\n",
    "\n",
    "chaintester.chain_config['contracts_console'] = True\n",
    "eos.set_log_level(\"default\", 3)\n",
    "\n",
    "logger = log.get_logger(__name__)\n",
    "\n",
    "dir_name = os.path.dirname(os.path.abspath(__file__))\n",
    "\n",
    "def init_test(contract_name):\n",
    "    t = ChainTester(True)\n",
    "    wasm_file = os.path.join(dir_name, f'{contract_name}.wasm')\n",
    "    with open(wasm_file, 'rb') as f:\n",
    "        code = f.read()\n",
    "\n",
    "    abi_file = os.path.join(dir_name, f'{contract_name}.abi')\n",
    "    with open(abi_file, 'r') as f:\n",
    "        abi = f.read()\n",
    "\n",
    "    t.deploy_contract('hello', code, abi)\n",
    "    t.produce_block()\n",
    "    eos.set_log_level(\"default\", 1)\n",
    "    return t\n",
    "\n",
    "def test_say_hello():\n",
    "    t = init_test('test')\n",
    "    ret = t.push_action('hello', 'sayhello', \"\", {'hello': 'active'})\n",
    "    t.produce_block()\n",
    "    logger.info(\"++++++++++%s\\n\", ret['elapsed'])"
   ]
  },
  {
   "cell_type": "markdown",
   "id": "5453e35f",
   "metadata": {},
   "source": [
    "Run the test:"
   ]
  },
  {
   "cell_type": "code",
   "execution_count": null,
   "id": "a861a2db",
   "metadata": {},
   "outputs": [],
   "source": [
    "%%bash\n",
    "ipyeos -m pytest -s -x test.py -k test_say_hello"
   ]
  },
  {
   "cell_type": "markdown",
   "id": "9a98306f",
   "metadata": {},
   "source": [
    "You should see the following output:"
   ]
  },
  {
   "cell_type": "code",
   "execution_count": null,
   "id": "5223116f",
   "metadata": {},
   "outputs": [],
   "source": [
    "hello, world"
   ]
  },
  {
   "cell_type": "markdown",
   "id": "b7c135b1",
   "metadata": {},
   "source": [
    "[Full Source Code](https://github.com/learnforpractice/pscdk-book/tree/main/examples/callc)"
   ]
  }
 ],
 "metadata": {
  "kernelspec": {
   "display_name": "Python 3 (ipykernel)",
   "language": "python",
   "name": "python3"
  },
  "language_info": {
   "codemirror_mode": {
    "name": "ipython",
    "version": 3
   },
   "file_extension": ".py",
   "mimetype": "text/x-python",
   "name": "python",
   "nbconvert_exporter": "python",
   "pygments_lexer": "ipython3",
   "version": "3.10.8"
  }
 },
 "nbformat": 4,
 "nbformat_minor": 5
}
