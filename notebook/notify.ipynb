{
 "cells": [
  {
   "cell_type": "markdown",
   "id": "b296fd79",
   "metadata": {},
   "source": [

    "\n",
    "# The `require_recipient` function\n",
    "\n",
    "The function is declared in `action.codon` as follows:"
   ]
  },
  {
   "cell_type": "code",
   "execution_count": null,
   "id": "4ac98227",
   "metadata": {},
   "outputs": [],
   "source": [
    "def require_recipient(account: Name):"
   ]
  },
  {
   "cell_type": "markdown",
   "id": "fb6701c2",
   "metadata": {},
   "source": [
    "The `require_recipient` function is utilized to notify other contracts. If the `account` contract has the same action, this action will be called.\n",
    "\n",
    "The following code in `sender.codon` and `receiver.codon` demonstrates how to send a notification from one contract to another."
   ]
  },
  {
   "cell_type": "code",
   "execution_count": null,
   "id": "79c7ed5e",
   "metadata": {},
   "outputs": [],
   "source": [
    "# sender.codon\n",
    "from chain.name import Name\n",
    "from chain.contract import Contract\n",
    "from chain.action import require_recipient\n",
    "\n",
    "@contract(main=True)\n",
    "class MyContract(Contract):\n",
    "\n",
    "    @action('sayhello')\n",
    "    def sayhello(self, receiver: Name):\n",
    "        print('hello, world')\n",
    "        require_recipient(receiver)"
   ]
  },
  {
   "cell_type": "code",
   "execution_count": null,
   "id": "e32e3a2f",
   "metadata": {},
   "outputs": [],
   "source": [
    "# receiver.codon\n",
    "from chain.name import Name\n",
    "from chain.contract import Contract\n",
    "\n",
    "@contract(main=True)\n",
    "class MyContract(Contract):\n",
    "\n",
    "    @action('sayhello', notify=True)\n",
    "    def sayhello(self, receiver: Name):\n",
    "        assert not self.receiver == self.first_receiver\n",
    "        assert receiver == self.receiver\n",
    "        print('hello, world from notify')"
   ]
  },
  {
   "cell_type": "markdown",
   "id": "26408af6",
   "metadata": {},
   "source": [
    "Note that the definition of the `sayhello` function in `receiver.codon` is slightly different from that in `sender.codon`. The `notify=True` in the `action` decorator of the `sayhello` function in `receiver.codon` is used to specify that this action is used to receive notifications and can only be triggered by calling `require_recipient`.\n",
    "\n",
    "The following is the test code:"
   ]
  },
  {
   "cell_type": "code",
   "execution_count": null,
   "id": "350a3b88",
   "metadata": {},
   "outputs": [],
   "source": [
    "def init_notify():\n",
    "    t = ChainTester(True)\n",
    "    update_auth(t, 'hello')\n",
    "\n",
    "    wasm_file = os.path.join(dir_name, 'notify/sender.wasm')\n",
    "    with open(wasm_file, 'rb') as f:\n",
    "        code = f.read()\n",
    "    abi_file = os.path.join(dir_name, 'notify/sender.abi')\n",
    "    with open(abi_file, 'r') as f:\n",
    "        abi = f.read()\n",
    "    t.deploy_contract('hello', code, abi)\n",
    "    t.produce_block()\n",
    "\n",
    "    wasm_file = os.path.join(dir_name, 'notify/receiver.wasm')\n",
    "    with open(wasm_file, 'rb') as f:\n",
    "        code = f.read()\n",
    "    abi_file = os.path.join(dir_name, 'notify/receiver.abi')\n",
    "    with open(abi_file, 'r') as f:\n",
    "        abi = f.read()\n",
    "    t.deploy_contract('alice', code, abi)\n",
    "    t.produce_block()\n",
    "    return t\n",
    "\n",
    "def test_notify():\n",
    "    t = init_notify()\n",
    "    args = {'receiver': 'alice'}\n",
    "    ret = t.push_action('hello', 'sayhello', args, {'hello': 'active'})\n",
    "    t.produce_block()\n",
    "    logger.info(\"++++++++++%s\\n\", ret['elapsed'])"
   ]
  },
  {
   "cell_type": "markdown",
   "id": "7748add8",
   "metadata": {},
   "source": [
    "Compile:"
   ]
  },
  {
   "cell_type": "code",
   "execution_count": null,
   "id": "59cf083c",
   "metadata": {},
   "outputs": [],
   "source": [
    "%%bash\n",
    "python-contract build notify/receiver.codon\n",
    "python-contract build notify/sender.codon"
   ]
  },
  {
   "cell_type": "markdown",
   "id": "b096b847",
   "metadata": {},
   "source": [
    "Test:"
   ]
  },
  {
   "cell_type": "code",
   "execution_count": null,
   "id": "75827b83",
   "metadata": {},
   "outputs": [],
   "source": [
    "%%bash\n",
    "ipyeos -m pytest -s -x test.py -k test_notify"
   ]
  },
  {
   "cell_type": "markdown",
   "id": "f323677a",
   "metadata": {},
   "source": [
    "Output:\n",
    "\n",
    "```\n",
    "[(hello,sayhello)->hello]: CONSOLE OUTPUT BEGIN =====================\n",
    "hello, world\n",
    "\n",
    "[(hello,sayhello)->hello]: CONSOLE OUTPUT END   =====================\n",
    "debug 2023-03-28T13:08:01.110 thread-0  apply_context.cpp:30          print_debug          ] \n",
    "[(hello,sayhello)->alice]: CONSOLE OUTPUT BEGIN =====================\n",
    "hello, world from notify\n",
    "\n",
    "[(hello,sayhello)->alice]: CONSOLE OUTPUT END   =====================\n",
    "```"
   ]
  }
 ],
 "metadata": {},
 "nbformat": 4,
 "nbformat_minor": 5
}
