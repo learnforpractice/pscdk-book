{
 "cells": [
  {
   "cell_type": "markdown",
   "id": "1e1145a8",
   "metadata": {},
   "source": [

    "\n",
    "# Database Operations\n",
    "\n",
    "On-chain data storage and retrieval is a critical feature of smart contracts. EOS implements an in-memory database that allows data to be stored in a table format. Each item in a table has a unique primary index, called a primary key, which is of type `u64`. The raw data stored in the table can be binary data of any length. When the storage function of a smart contract is called, the data is serialized and stored in the table. When reading, the stored data is deserialized back as a class object. Additionally, EOS supports secondary index tables of types `u64`, `u128`, `u256`, `double`, and `long double`, which can be considered special tables with a fixed data length. Primary and secondary index tables can be used together to implement multiple indexes. There can be multiple secondary index tables, and the values in these tables can be repeated, but the primary index in the primary index table must be unique.\n",
    "\n",
    "The following example demonstrates the usage of EOS's in-memory database.\n",
    "\n",
    "## Store\n",
    "\n",
    "Storage is the simplest function of the database, and the following code demonstrates this functionality."
   ]
  },
  {
   "cell_type": "code",
   "execution_count": null,
   "id": "01cb28ef",
   "metadata": {},
   "outputs": [],
   "source": [
    "# db_example1.codon\n",
    "@table(\"mytable\")\n",
    "class A(object):\n",
    "    a: primary[u64]\n",
    "    b: str\n",
    "    def __init__(self, a: u64, b: str):\n",
    "        self.a = primary[u64](a)\n",
    "        self.b = b\n",
    "\n",
    "@contract(main=True)\n",
    "class MyContract(Contract):\n",
    "\n",
    "    def __init__(self):\n",
    "        super().__init__()\n",
    "\n",
    "    @action('teststore')\n",
    "    def test_store(self):\n",
    "        print('db_test')\n",
    "        item = A(123u64, 'hello, world')\n",
    "        table = A.new_table(n'hello', n'')\n",
    "        table.store(item, n'hello')"
   ]
  },
  {
   "cell_type": "markdown",
   "id": "cb806916",
   "metadata": {},
   "source": [
    "Compile:"
   ]
  },
  {
   "cell_type": "code",
   "execution_count": null,
   "id": "442abd7d",
   "metadata": {},
   "outputs": [],
   "source": [
    "python-contract build db_example/db_example1.codon"
   ]
  },
  {
   "cell_type": "code",
   "execution_count": null,
   "id": "0b0ce82a",
   "metadata": {},
   "outputs": [],
   "source": [
    "%%bash\n",
    "ipyeos -m pytest -s -x test.py -k test_store"
   ]
  },
  {
   "cell_type": "markdown",
   "id": "6dd81368",
   "metadata": {},
   "source": [
    "The test code you are running is as follows:"
   ]
  },
  {
   "cell_type": "code",
   "execution_count": null,
   "id": "33a31862",
   "metadata": {},
   "outputs": [],
   "source": [
    "def test_store():\n",
    "    t = init_db_test('db_example1')\n",
    "    ret = t.push_action('hello', 'teststore', \"\", {'hello': 'active'})\n",
    "    t.produce_block()\n",
    "    logger.info(\"++++++++++%s\\n\", ret['elapsed'])"
   ]
  },
  {
   "cell_type": "markdown",
   "id": "a5a397f2",
   "metadata": {},
   "source": [
    "**Note**:\n",
    "\n",
    "In this example, if there is already data with the primary key `123u64` in the table, an exception will be thrown when the function is called.\n",
    "\n",
    "To modify the above test case to the following code:"
   ]
  },
  {
   "cell_type": "code",
   "execution_count": null,
   "id": "a502bc07",
   "metadata": {},
   "outputs": [],
   "source": [
    "def test_example1():\n",
    "    t = init_db_test('db_example1')\n",
    "    ret = t.push_action('hello', 'test', \"\", {'hello': 'active'})\n",
    "    t.produce_block()\n",
    "    logger.info(\"++++++++++%s\\n\", ret['elapsed'])\n",
    "\n",
    "    # will raise exception\n",
    "    ret = t.push_action('hello', 'test', \"\", {'hello': 'active'})\n",
    "    t.produce_block()"
   ]
  },
  {
   "cell_type": "markdown",
   "id": "056ac52e",
   "metadata": {},
   "source": [
    "When running the test with the same command, if the `push_action` is called for the second time, the function will throw an exception similar to the following:"
   ]
  },
  {
   "cell_type": "code",
   "execution_count": null,
   "id": "4c299f99",
   "metadata": {},
   "outputs": [],
   "source": [
    "could not insert object, most likely a uniqueness constraint was violated"
   ]
  },
  {
   "cell_type": "markdown",
   "id": "45aaed5a",
   "metadata": {},
   "source": [
    "To avoid such exceptions, the `update` method must be used when updating data in the table. Before calling `store`, it is necessary to check whether the primary index already exists in the table. If it does, `store` method cannot be called, and `update` method must be used instead. The following example demonstrates how to use it:\n",
    "                                                                                                    \n",
    "## find/update\n",
    "\n",
    "This section demonstrates the lookup and update functionality of the database."
   ]
  },
  {
   "cell_type": "code",
   "execution_count": null,
   "id": "c341a0c3",
   "metadata": {},
   "outputs": [],
   "source": [
    "# db_example1.codon\n",
    "\n",
    "...\n",
    "\n",
    "@contract(main=True)\n",
    "class MyContract(Contract):\n",
    "\n",
    "...\n",
    "\n",
    "    @action('testupdate')\n",
    "    def test_update(self, value: str):\n",
    "        print('db_test')\n",
    "        table = A.new_table(n'hello', n'')\n",
    "        key = 123u64\n",
    "        it = table.find(key)\n",
    "        if it.is_ok():\n",
    "            print('+++++update value:', value)\n",
    "            item = A(key, value)\n",
    "            table.update(it, item, n'hello')\n",
    "        else:\n",
    "            print('+++++store value:', value)\n",
    "            item = A(key, value)\n",
    "            table.store(item, n'hello')"
   ]
  },
  {
   "cell_type": "markdown",
   "id": "d6244d3b",
   "metadata": {},
   "source": [
    "The following is the test code:"
   ]
  },
  {
   "cell_type": "code",
   "execution_count": null,
   "id": "07b5e368",
   "metadata": {},
   "outputs": [],
   "source": [
    "def test_update():\n",
    "    t = init_db_test('db_example1')\n",
    "    ret = t.push_action('hello', 'testupdate', {'value': 'hello, bob'}, {'hello': 'active'})\n",
    "    t.produce_block()\n",
    "    logger.info(\"++++++++++%s\\n\", ret['elapsed'])\n",
    "\n",
    "    ret = t.push_action('hello', 'test', {'value': 'hello, alice'}, {'hello': 'active'})\n",
    "    t.produce_block()"
   ]
  },
  {
   "cell_type": "markdown",
   "id": "27c248d0",
   "metadata": {},
   "source": [
    "Compile using the following command:"
   ]
  },
  {
   "cell_type": "code",
   "execution_count": null,
   "id": "66ba0d99",
   "metadata": {},
   "outputs": [],
   "source": [
    "python-contract build db_example/db_example1.codon"
   ]
  },
  {
   "cell_type": "markdown",
   "id": "dc8970fe",
   "metadata": {},
   "source": [
    "Execute the test code with the following command:"
   ]
  },
  {
   "cell_type": "code",
   "execution_count": null,
   "id": "66d232ec",
   "metadata": {},
   "outputs": [],
   "source": [
    "%%bash\n",
    "ipyeos -m pytest -s -x test.py -k test_update"
   ]
  },
  {
   "cell_type": "markdown",
   "id": "8429e0c1",
   "metadata": {},
   "source": [
    "When calling"
   ]
  },
  {
   "cell_type": "code",
   "execution_count": null,
   "id": "e70bfb41",
   "metadata": {},
   "outputs": [],
   "source": [
    "t.push_action('hello', 'test', {'value': 'hello, bob'}, {'hello': 'active'})"
   ]
  },
  {
   "cell_type": "markdown",
   "id": "e434539e",
   "metadata": {},
   "source": [
    "it will output:"
   ]
  },
  {
   "cell_type": "code",
   "execution_count": null,
   "id": "a1f9b437",
   "metadata": {},
   "outputs": [],
   "source": [
    "+++++store value: hello, bob"
   ]
  },
  {
   "cell_type": "markdown",
   "id": "fa3c2c6f",
   "metadata": {},
   "source": [
    "When calling"
   ]
  },
  {
   "cell_type": "code",
   "execution_count": null,
   "id": "f4d52d94",
   "metadata": {},
   "outputs": [],
   "source": [
    "t.push_action('hello', 'test', {'value': 'hello, alice'}, {'hello': 'active'})"
   ]
  },
  {
   "cell_type": "markdown",
   "id": "615f4773",
   "metadata": {},
   "source": [
    "it will output:"
   ]
  },
  {
   "cell_type": "code",
   "execution_count": null,
   "id": "80bfbcb4",
   "metadata": {},
   "outputs": [],
   "source": [
    "+++++update value: hello, alice"
   ]
  },
  {
   "cell_type": "markdown",
   "id": "382c5b58",
   "metadata": {},
   "source": [
    "As you can see, the above code is a bit complicated. First, it needs to call `find` to determine whether the value corresponding to the primary index exists, and then decide whether to call `store` or `update`. It should be noted that, during the update process, **the value of the primary index cannot be changed**, otherwise an exception will be thrown.\n",
    "\n",
    "You can try to modify the update code to:"
   ]
  },
  {
   "cell_type": "code",
   "execution_count": null,
   "id": "79ddd575",
   "metadata": {},
   "outputs": [],
   "source": [
    "item = A(key+1u64, value)\n",
    "table.update(it, item, n'hello')"
   ]
  },
  {
   "cell_type": "markdown",
   "id": "3a4b3ca1",
   "metadata": {},
   "source": [
    "You will see an exception thrown in the smart contract.\n",
    "                                                                                                    \n",
    "## Remove\n",
    "\n",
    "The following code demonstrates how to remove an item from the database."
   ]
  },
  {
   "cell_type": "code",
   "execution_count": null,
   "id": "149accee",
   "metadata": {},
   "outputs": [],
   "source": [
    "# db_example/db_example1.codon\n",
    "\n",
    "@action('testremove')\n",
    "def test_remove(self):\n",
    "    print('test remove')\n",
    "    item = A(123u64, 'hello, world')\n",
    "    table = A.new_table(n'hello', n'')\n",
    "    table.store(item, n'hello')\n",
    "\n",
    "    it = table.find(123u64)\n",
    "    assert it.is_ok()\n",
    "    table.remove(it)\n",
    "\n",
    "    it = table.find(123u64)\n",
    "    assert not it.is_ok()"
   ]
  },
  {
   "cell_type": "markdown",
   "id": "6db7f4bf",
   "metadata": {},
   "source": [
    "Test code:"
   ]
  },
  {
   "cell_type": "code",
   "execution_count": null,
   "id": "bde52683",
   "metadata": {},
   "outputs": [],
   "source": [
    "def test_remove():\n",
    "    t = init_db_test('db_example1')\n",
    "    ret = t.push_action('hello', 'testremove', \"\", {'hello': 'active'})\n",
    "    t.produce_block()\n",
    "    logger.info(\"++++++++++%s\\n\", ret['elapsed'])"
   ]
  },
  {
   "cell_type": "markdown",
   "id": "3e42d991",
   "metadata": {},
   "source": [
    "Compile using the following command:"
   ]
  },
  {
   "cell_type": "code",
   "execution_count": null,
   "id": "bc8aad83",
   "metadata": {},
   "outputs": [],
   "source": [
    "python-contract build db_example/db_example1.codon"
   ]
  },
  {
   "cell_type": "markdown",
   "id": "9a549611",
   "metadata": {},
   "source": [
    "Test using the following command:"
   ]
  },
  {
   "cell_type": "code",
   "execution_count": null,
   "id": "bb453b12",
   "metadata": {},
   "outputs": [],
   "source": [
    "%%bash\n",
    "ipyeos -m pytest -s -x test.py -k test_remove"
   ]
  },
  {
   "cell_type": "markdown",
   "id": "020b86e9",
   "metadata": {},
   "source": [
    "The above code first calls the `store` method to store the data with index `123u64` in the database, then calls `remove` to delete it, and uses `assert` to check the result. If everything is normal, the program will not throw any exceptions.\n",
    "\n",
    "## Lowerbound/Upperbound\n",
    "\n",
    "These two methods are also used to search for elements in the database. Unlike the `find` method, these two functions are used for fuzzy searching. Among them, the `lowerbound` method returns an `Iterator` whose `id` is `>=` the specified `id`, and the `upperbound` method returns an `Iterator` whose `id` is `>` the specified `id`. Let's take a look at the usage below:"
   ]
  },
  {
   "cell_type": "code",
   "execution_count": null,
   "id": "e9b112b8",
   "metadata": {},
   "outputs": [],
   "source": [
    "# db_example/db_example1.codon\n",
    "\n",
    "...\n",
    "\n",
    "@contract(main=True)\n",
    "class MyContract(Contract):\n",
    "\n",
    "...\n",
    "\n",
    "    @action('testbound')\n",
    "    def test_bound(self):\n",
    "        print('db_test')\n",
    "        table = A.new_table(n'hello', n'')\n",
    "        payer = n'hello'\n",
    "\n",
    "        value = A(1u64, \"alice\")\n",
    "        table.store(value, payer)\n",
    "\n",
    "        value = A(3u64, \"bob\")\n",
    "        table.store(value, payer)\n",
    "\n",
    "        value = A(5u64, \"john\")\n",
    "        table.store(value, payer)\n",
    "\n",
    "        it = table.lowerbound(1u64)\n",
    "        value2: A = it.get_value()\n",
    "        print(\"+++++:\", value2.a, value2.b)\n",
    "        assert value2.a == 1u64 and value2.b == 'alice'\n",
    "\n",
    "        it = table.upperbound(1u64)\n",
    "        value2: A = it.get_value()\n",
    "        print(\"+++++:\", value2.a, value2.b)\n",
    "        assert value2.a == 3u64 and value2.b == 'bob'"
   ]
  },
  {
   "cell_type": "markdown",
   "id": "301a9c58",
   "metadata": {},
   "source": [
    "Test code:"
   ]
  },
  {
   "cell_type": "code",
   "execution_count": null,
   "id": "4f52f7a9",
   "metadata": {},
   "outputs": [],
   "source": [
    "def test_bound():\n",
    "    t = init_db_test('db_example4')\n",
    "    ret = t.push_action('hello', 'testbound', {}, {'hello': 'active'})\n",
    "    t.produce_block()\n",
    "    logger.info(\"++++++++++%s\\n\", ret['elapsed'])"
   ]
  },
  {
   "cell_type": "markdown",
   "id": "cf846d87",
   "metadata": {},
   "source": [
    "Compile using the following command:"
   ]
  },
  {
   "cell_type": "code",
   "execution_count": null,
   "id": "7b9f08a8",
   "metadata": {},
   "outputs": [],
   "source": [
    "python-contract build db_example/db_example1.codon"
   ]
  },
  {
   "cell_type": "markdown",
   "id": "fbbb820e",
   "metadata": {},
   "source": [
    "Run the test using the following command:"
   ]
  },
  {
   "cell_type": "code",
   "execution_count": null,
   "id": "7bb01cf2",
   "metadata": {},
   "outputs": [],
   "source": [
    "%%bash\n",
    "ipyeos -m pytest -s -x test.py -k test_bound"
   ]
  },
  {
   "cell_type": "markdown",
   "id": "31bb7292",
   "metadata": {},
   "source": [
    "Output:"
   ]
  },
  {
   "cell_type": "code",
   "execution_count": null,
   "id": "d569c6e9",
   "metadata": {},
   "outputs": [],
   "source": [
    "+++++: 1 alice\n",
    "+++++: 3 bob"
   ]
  },
  {
   "cell_type": "markdown",
   "id": "219e1b66",
   "metadata": {},
   "source": [
    "## Querying the Primary Index of a Table Using API\n",
    "\n",
    "The above examples are all about how to operate the database table on the chain through the smart contract. In fact, by using the `get_table_rows` API provided by EOS off the chain, you can also query the table on the chain.\n",
    "\n",
    "In the test code, the definition of `get_table_rows` is as follows:"
   ]
  },
  {
   "cell_type": "code",
   "execution_count": null,
   "id": "ee17143b",
   "metadata": {},
   "outputs": [],
   "source": [
    "def get_table_rows(self, _json, code, scope, table,\n",
    "                                lower_bound, upper_bound,\n",
    "                                limit,\n",
    "                                key_type='',\n",
    "                                index_position='', \n",
    "                                reverse = False,\n",
    "                                show_payer = False):\n",
    "    \"\"\" Fetch smart contract data from an account. \n",
    "    key_type: \"i64\"|\"i128\"|\"i256\"|\"float64\"|\"float128\"|\"sha256\"|\"ripemd160\"\n",
    "    index_position: \"2\"|\"3\"|\"4\"|\"5\"|\"6\"|\"7\"|\"8\"|\"9\"|\"10\"\n",
    "    \"\"\""
   ]
  },
  {
   "cell_type": "markdown",
   "id": "54e068d5",
   "metadata": {},
   "source": [
    "First of all, to query a table using `get_table_rows`, the structure of the table must be visible in the ABI description. You can use the following code to describe the table in the corresponding generated ABI file:"
   ]
  },
  {
   "cell_type": "code",
   "execution_count": null,
   "id": "7b5cc063",
   "metadata": {},
   "outputs": [],
   "source": [
    "# db_example5.codon\n",
    "\n",
    "from chain.database import primary\n",
    "from chain.contract import Contract\n",
    "\n",
    "@table(\"mytable\")\n",
    "class A(object):\n",
    "    a: primary[u64]\n",
    "    b: str\n",
    "    def __init__(self, a: u64, b: str):\n",
    "        self.a = primary[u64](a)\n",
    "        self.b = b\n",
    "\n",
    "@contract(main=True)\n",
    "class MyContract(Contract):\n",
    "\n",
    "    def __init__(self):\n",
    "        super().__init__()\n",
    "\n",
    "    @action('test')\n",
    "    def test(self):\n",
    "        print('db_test')\n",
    "        table = A.new_table(n'hello', n'')\n",
    "        payer = n'hello'\n",
    "\n",
    "        value = A(1u64, \"alice\")\n",
    "        table.store(value, payer)\n",
    "\n",
    "        value = A(3u64, \"bob\")\n",
    "        table.store(value, payer)\n",
    "\n",
    "        value = A(5u64, \"john\")\n",
    "        table.store(value, payer)\n",
    "\n",
    "        it = table.lowerbound(1u64)\n",
    "        value2: A = it.get_value()\n",
    "        print(\"+++++:\", value2.a, value2.b)\n",
    "        assert value2.a() == 1u64 and value2.b == 'alice'\n",
    "\n",
    "        it = table.upperbound(1u64)\n",
    "        value2: A = it.get_value()\n",
    "        print(\"+++++:\", value2.a, value2.b)\n",
    "        assert value2.a() == 3u64 and value2.b == 'bob'"
   ]
  },
  {
   "cell_type": "markdown",
   "id": "79af1136",
   "metadata": {},
   "source": [
    "Here, the `table` decorator is used to make the compiler include the structure of the table in the ABI.\n",
    "\n",
    "After adding this `table` to the class, the compiler will automatically add the `get_primary` and `new_table` functions to the class.\n",
    "\n",
    "At the same time, the member variables of the class must also meet certain requirements: first, a primary index variable must be declared, and the type must be `database.primary`. The implementation of the `primary` class is as follows:"
   ]
  },
  {
   "cell_type": "code",
   "execution_count": null,
   "id": "8cc0e949",
   "metadata": {},
   "outputs": [],
   "source": [
    "class primary[T](object):\n",
    "    value: T\n",
    "    def __init__(self, value: T):\n",
    "        self.value = value\n",
    "\n",
    "    def get_primary(self) -> u64:\n",
    "        if isinstance(self.value, u64):\n",
    "            return self.value\n",
    "        return self.value.get_primary()\n",
    "\n",
    "    def __pack__(self, enc: Encoder):\n",
    "        self.value.__pack__(enc)\n",
    "\n",
    "    def __unpack__(dec: Decoder) -> primary[T]:\n",
    "        return primary[T](T.__unpack__(dec))\n",
    "\n",
    "    def __call__(self) -> T:\n",
    "        return self.value\n",
    "\n",
    "    def __size__(self) -> int:\n",
    "        return self.value.__size__()"
   ]
  },
  {
   "cell_type": "markdown",
   "id": "a35a28c2",
   "metadata": {},
   "source": [
    "The `primary` class is a template class. If the type of the `value` in `primary` is not of type `u64`, then the type must implement the `get_primary` method. The `primary` class also has a `__call__` method to facilitate access to `value`. In the following discussion of multiple indexes, binary indexes will also be used. The type of the binary index must be `database.secondary`.\n",
    "\n",
    "Compilation:"
   ]
  },
  {
   "cell_type": "code",
   "execution_count": null,
   "id": "3a77641d",
   "metadata": {},
   "outputs": [],
   "source": [
    "%%bash\n",
    "python-contract build db_example/db_example5.codon"
   ]
  },
  {
   "cell_type": "markdown",
   "id": "c14a451a",
   "metadata": {},
   "source": [
    "You will see the following description in the generated `db_example5.abi:`"
   ]
  },
  {
   "cell_type": "code",
   "execution_count": null,
   "id": "8ad632f2",
   "metadata": {},
   "outputs": [],
   "source": [
    "%%bash\n",
    "\"tables\": [\n",
    "        {\n",
    "            \"name\": \"mytable\",\n",
    "            \"type\": \"A\",\n",
    "            \"index_type\": \"i64\",\n",
    "            \"key_names\": [],\n",
    "            \"key_types\": []\n",
    "        }\n",
    "    ]"
   ]
  },
  {
   "cell_type": "markdown",
   "id": "82a26d4d",
   "metadata": {},
   "source": [
    "Now consider the test code:"
   ]
  },
  {
   "cell_type": "code",
   "execution_count": null,
   "id": "e5b9a024",
   "metadata": {},
   "outputs": [],
   "source": [
    "def test_example5():\n",
    "    t = init_db_test('db_example5')\n",
    "    ret = t.push_action('hello', 'test', {}, {'hello': 'active'})\n",
    "    t.produce_block()\n",
    "    logger.info(\"++++++++++%s\\n\", ret['elapsed'])\n",
    "    rows = t.get_table_rows(True, 'hello', '', 'mytable', 1, '', 10)\n",
    "    logger.info('++++++=rows: %s', rows)"
   ]
  },
  {
   "cell_type": "markdown",
   "id": "73f9afa9",
   "metadata": {},
   "source": [
    "Run the test:"
   ]
  },
  {
   "cell_type": "code",
   "execution_count": null,
   "id": "b0f87d41",
   "metadata": {},
   "outputs": [],
   "source": [
    "%%bash\n",
    "ipyeos -m pytest -s -x test.py -k test_example5"
   ]
  },
  {
   "cell_type": "markdown",
   "id": "677f27ca",
   "metadata": {},
   "source": [
    "Output:"
   ]
  },
  {
   "cell_type": "code",
   "execution_count": null,
   "id": "e1b8878d",
   "metadata": {},
   "outputs": [],
   "source": [
    "++++++=rows: {'rows': [{'a': 1, 'b': 'alice'}, {'a': 3, 'b': 'bob'}, {'a': 5, 'b': 'john'}], 'more': False, 'next_key': ''}"
   ]
  },
  {
   "cell_type": "markdown",
   "id": "4ae82fad",
   "metadata": {},
   "source": [
    "## Operation of the binary index\n",
    "\n",
    "First, consider the following example:"
   ]
  },
  {
   "cell_type": "code",
   "execution_count": null,
   "id": "0892a98b",
   "metadata": {},
   "outputs": [],
   "source": [
    "# db_example7.codon\n",
    "\n",
    "from chain.contract import Contract\n",
    "from chain.database import primary, secondary\n",
    "from chain.database import IdxTable64, IdxTable128, Iterator\n",
    "from chain.name import Name\n",
    "\n",
    "@table(\"mytable\")\n",
    "class A(object):\n",
    "    a: database.primary[u64]\n",
    "    b: secondary[u64]\n",
    "    c: secondary[u128]\n",
    "\n",
    "    def __init__(self, a: u64, b: u64, c: u128):\n",
    "        self.a = primary[u64](a)\n",
    "        self.b = secondary[u64](b)\n",
    "        self.c = secondary[u128](c)\n",
    "\n",
    "@contract(main=True)\n",
    "class MyContract(Contract):\n",
    "\n",
    "    def __init__(self):\n",
    "        super().__init__()\n",
    "\n",
    "    @action('test')\n",
    "    def test(self):\n",
    "        payer = n\"hello\"\n",
    "        table = A.new_table(n\"hello\", n\"\")\n",
    "        item = A(1u64, 2u64, 3u128)\n",
    "        table.store(item, payer)\n",
    "\n",
    "        idx_table_b = table.get_idx_table_by_b()\n",
    "        it = idx_table_b.find(2u64)\n",
    "        print(\"++++++it.primary:\", it.primary)\n",
    "        assert it.primary == 1u64\n",
    "\n",
    "        idx_table_c = table.get_idx_table_by_c()\n",
    "        it = idx_table_c.find(3u128)\n",
    "        print(\"++++++it.primary:\", it.primary)\n",
    "        assert it.primary == 1u64"
   ]
  },
  {
   "cell_type": "markdown",
   "id": "5c8633c1",
   "metadata": {},
   "source": [
    "In this example, two binary indexes are defined:"
   ]
  },
  {
   "cell_type": "code",
   "execution_count": null,
   "id": "2e7e2fa9",
   "metadata": {},
   "outputs": [],
   "source": [
    "b: secondary[u64]\n",
    "c: secondary[u128]"
   ]
  },
  {
   "cell_type": "markdown",
   "id": "3a92d127",
   "metadata": {},
   "source": [
    "In the code, `get_idx_table_by_b` and `get_idx_table_by_c` are used to obtain the tables of the binary indexes, and the returned object types are `IdxTable64` and `IdxTable128`, respectively. The tables of binary indexes have similar method names as the tables of the primary index, and can also perform the function of binary index lookup.\n",
    "\n",
    "Test code:"
   ]
  },
  {
   "cell_type": "code",
   "execution_count": null,
   "id": "4043b62a",
   "metadata": {},
   "outputs": [],
   "source": [
    "# test.py\n",
    "def test_example7():\n",
    "    t = init_db_test('db_example7')\n",
    "    ret = t.push_action('hello', 'test', {}, {'hello': 'active'})\n",
    "    t.produce_block()\n",
    "    logger.info(\"++++++++++%s\\n\", ret['elapsed'])"
   ]
  },
  {
   "cell_type": "markdown",
   "id": "f9e7716d",
   "metadata": {},
   "source": [
    "Compile:"
   ]
  },
  {
   "cell_type": "code",
   "execution_count": null,
   "id": "2ebd14c1",
   "metadata": {},
   "outputs": [],
   "source": [
    "python-contract build db_example/db_example7.codon"
   ]
  },
  {
   "cell_type": "markdown",
   "id": "f7189ba9",
   "metadata": {},
   "source": [
    "Run the test:"
   ]
  },
  {
   "cell_type": "code",
   "execution_count": null,
   "id": "c8f60f95",
   "metadata": {},
   "outputs": [],
   "source": [
    "%%bash\n",
    "ipyeos -m pytest -s -x test.py -k test_example7"
   ]
  },
  {
   "cell_type": "markdown",
   "id": "6e08d79d",
   "metadata": {},
   "source": [
    "Output:"
   ]
  },
  {
   "cell_type": "code",
   "execution_count": null,
   "id": "21c6f7c7",
   "metadata": {},
   "outputs": [],
   "source": [
    "++++++it.primary: 1\n",
    "++++++it.primary: 1"
   ]
  },
  {
   "cell_type": "markdown",
   "id": "2c67770c",
   "metadata": {},
   "source": [
    "## Updating the binary index\n",
    "\n",
    "In practical applications, sometimes it is necessary to update the binary index. Please first look at the following code:"
   ]
  },
  {
   "cell_type": "code",
   "execution_count": null,
   "id": "57b2c6db",
   "metadata": {},
   "outputs": [],
   "source": [
    "# db_example8.codon\n",
    "from chain.contract import Contract\n",
    "from chain.database import primary, secondary\n",
    "from chain.database import IdxTable64, IdxTable128, Iterator\n",
    "from chain.name import Name\n",
    "\n",
    "@table(\"mytable\")\n",
    "class A(object):\n",
    "    a: database.primary[u64]\n",
    "    b: secondary[u64]\n",
    "    c: secondary[u128]\n",
    "\n",
    "    def __init__(self, a: u64, b: u64, c: u128):\n",
    "        self.a = primary[u64](a)\n",
    "        self.b = secondary[u64](b)\n",
    "        self.c = secondary[u128](c)\n",
    "\n",
    "@contract(main=True)\n",
    "class MyContract(Contract):\n",
    "\n",
    "    def __init__(self):\n",
    "        super().__init__()\n",
    "\n",
    "    @action('test')\n",
    "    def test(self):\n",
    "        payer = n\"hello\"\n",
    "        table = A.new_table(n\"hello\", n\"\")\n",
    "        item = A(1u64, 2u64, 3u128)\n",
    "        table.store(item, payer)\n",
    "        item = A(111u64, 222u64, 333u128)\n",
    "        table.store(item, payer)\n",
    "\n",
    "        idx_table_b = table.get_idx_table_by_b()\n",
    "        it_sec = idx_table_b.find(2u64)\n",
    "        print(\"++++++it.primary:\", it_sec.primary)\n",
    "        assert it_sec.primary == 1u64\n",
    "        \n",
    "        table.update_b(it_sec, 22u64, payer)\n",
    "\n",
    "        it_sec = idx_table_b.find(22u64)\n",
    "        assert it_sec.is_ok()\n",
    "        print(\"++++++it.primary:\", it_sec.primary)\n",
    "        assert it_sec.primary == 1u64"
   ]
  },
  {
   "cell_type": "markdown",
   "id": "6421515a",
   "metadata": {},
   "source": [
    "Note the following code in the above code:"
   ]
  },
  {
   "cell_type": "code",
   "execution_count": null,
   "id": "0fe6bde5",
   "metadata": {},
   "outputs": [],
   "source": [
    "idx_table_b = table.get_idx_table_by_b()\n",
    "it_sec = idx_table_b.find(2u64)\n",
    "print(\"++++++it.primary:\", it_sec.primary)\n",
    "assert it_sec.primary == 1u64\n",
    "\n",
    "table.update_b(it_sec, 22u64, payer)\n",
    "\n",
    "it_sec = idx_table_b.find(22u64)\n",
    "assert it_sec.is_ok()\n",
    "print(\"++++++it.primary:\", it_sec.primary)\n",
    "assert it_sec.primary == 1u64"
   ]
  },
  {
   "cell_type": "markdown",
   "id": "56dd5afd",
   "metadata": {},
   "source": [
    "Brief description of the process:\n",
    "\n",
    "- `it_sec = idx_table_b.find(2u64)`: Looks up the value `2u64` in the binary index and returns the `SecondaryIterator` type result `it_sec`.\n",
    "- `table.update_b(it_sec, 22u64, payer)`: This line of code implements the update function and updates the value of `b` to `22u64`.\n",
    "- `it_sec = idx_table_b.find(22u64)`: Looks up the new binary index.\n",
    "- `assert assert it_sec.is_ok()`: Used to confirm whether the binary index has been updated successfully.\n",
    "- `assert it_sec.primary == 1u64`: Used to confirm whether the primary index is correct.\n",
    "\n",
    "The `update_b` code is generated by the compiler and is shown below:"
   ]
  },
  {
   "cell_type": "code",
   "execution_count": null,
   "id": "a8a048e7",
   "metadata": {},
   "outputs": [],
   "source": [
    "def update_b(self, it: SecondaryIterator, b: u64, payer: Name) -> None:\n",
    "    # 更新`b`的二级索引\n",
    "    self.idx_b.update(it, b, payer)\n",
    "    # 查找主索引\n",
    "    it_primary = self.table.find(it.primary)\n",
    "    check(it_primary.is_ok(), \"primary iterator not found\")\n",
    "    # 获取主索引对应的值\n",
    "    value: A = it_primary.get_value()\n",
    "    # 更新主索引对应的值\n",
    "    value.b = secondary[u64](b)\n",
    "    self.table.update(it_primary, value, payer)"
   ]
  },
  {
   "cell_type": "markdown",
   "id": "08340b4a",
   "metadata": {},
   "source": [
    "From the code, it is apparent that when updating the binary index, the corresponding value in the primary index will also be updated.\n",
    "\n",
    "## Deleting the secondary index"
   ]
  },
  {
   "cell_type": "code",
   "execution_count": null,
   "id": "953ba006",
   "metadata": {},
   "outputs": [],
   "source": [
    "@action('testremove')\n",
    "def test_remove(self):\n",
    "    payer = n\"hello\"\n",
    "    table = A.new_table(n\"hello\", n\"\")\n",
    "    item = A(1u64, 2u64, 3u128)\n",
    "    table.store(item, payer)\n",
    "\n",
    "    idx_table_b = table.get_idx_table_by_b()\n",
    "    it_sec = idx_table_b.find(2u64)\n",
    "    assert it_sec.primary == 1u64\n",
    "    it = table.find(it_sec.primary)\n",
    "    table.remove(it)\n",
    "\n",
    "    it_sec = idx_table_b.find(2u64)\n",
    "    assert not it_sec.is_ok()\n",
    "    print('done!')"
   ]
  },
  {
   "cell_type": "markdown",
   "id": "bbea64ed",
   "metadata": {},
   "source": [
    "In this example, first call `store` to store an object A with the primary index of `1u64` and the first secondary index value of `2u64`. Then query `2u64` and confirm that `it_sec.primary == 1u64`. Next, call `remove` to delete the data with the primary index of `1u64`. Finally, query `2u64` again and confirm that the element has been deleted."
   ]
  },
  {
   "cell_type": "code",
   "execution_count": null,
   "id": "d0217dee",
   "metadata": {},
   "outputs": [],
   "source": [
    "# test.py\n",
    "def test_remove_secondary():\n",
    "    t = init_db_test('db_example8')\n",
    "    ret = t.push_action('hello', 'testremove', {}, {'hello': 'active'})\n",
    "    t.produce_block()\n",
    "    logger.info(\"++++++++++%s\\n\", ret['elapsed'])"
   ]
  },
  {
   "cell_type": "markdown",
   "id": "3e9cbb9f",
   "metadata": {},
   "source": [
    "Compilation:"
   ]
  },
  {
   "cell_type": "code",
   "execution_count": null,
   "id": "7daf6251",
   "metadata": {},
   "outputs": [],
   "source": [
    "%%bash\n",
    "python-contract build db_example/db_example8.codon"
   ]
  },
  {
   "cell_type": "markdown",
   "id": "9ef8ac6c",
   "metadata": {},
   "source": [
    "Running the test:"
   ]
  },
  {
   "cell_type": "code",
   "execution_count": null,
   "id": "806c5fe8",
   "metadata": {},
   "outputs": [],
   "source": [
    "%%bash\n",
    "ipyeos -m pytest -s -x test.py -k test_remove_secondary"
   ]
  },
  {
   "cell_type": "markdown",
   "id": "e85ff239",
   "metadata": {},
   "source": [
    "## Using the API to perform secondary index queries on a table\n",
    "\n",
    "In the `db_example8.codon` example, two binary indexes are defined, with the types `u64` and `u128`, respectively. The `get_table_rows` API also supports finding corresponding values through binary indexes."
   ]
  },
  {
   "cell_type": "code",
   "execution_count": null,
   "id": "0778a006",
   "metadata": {},
   "outputs": [],
   "source": [
    "def test_example9():\n",
    "    t = init_db_test('db_example8')\n",
    "    ret = t.push_action('hello', 'test', {}, {'hello': 'active'})\n",
    "    t.produce_block()\n",
    "    logger.info(\"++++++++++%s\\n\", ret['elapsed'])\n",
    "\n",
    "    # find by secondary u64\n",
    "    rows = t.get_table_rows(True, 'hello', '', 'mytable', 22, '', 10, 'i64', '2')\n",
    "    logger.info(\"++++++++++%s\", rows['rows'])\n",
    "    assert rows['rows'][0]['b'] == 22\n",
    "\n",
    "    # find by secondary u128\n",
    "    rows = t.get_table_rows(True, 'hello', '', 'mytable', '3', '', 10, 'i128', '3')\n",
    "    logger.info(\"++++++++++%s\", rows['rows'])\n",
    "    assert rows['rows'][0]['c'] == '3'"
   ]
  },
  {
   "cell_type": "markdown",
   "id": "6884c25c",
   "metadata": {},
   "source": [
    "Explanation of the code below:\n",
    "\n",
    "To find the value in the table through the second index `b`:"
   ]
  },
  {
   "cell_type": "code",
   "execution_count": null,
   "id": "74485aa1",
   "metadata": {},
   "outputs": [],
   "source": [
    "rows = t.get_table_rows(True, 'hello', '', 'mytable', 22, '', 10, 'i64', '2')"
   ]
  },
  {
   "cell_type": "markdown",
   "id": "0444a984",
   "metadata": {},
   "source": [
    "Here, `i64` is the index type of `b`, and `2` is zero-based index corresponding to the index.\n",
    "\n",
    "To find the value in the table through the second index `c`:"
   ]
  },
  {
   "cell_type": "code",
   "execution_count": null,
   "id": "8ef4a160",
   "metadata": {},
   "outputs": [],
   "source": [
    "rows = t.get_table_rows(True, 'hello', '', 'mytable', '3', '', 10, 'i128', '3')"
   ]
  },
  {
   "cell_type": "markdown",
   "id": "c11bc6b2",
   "metadata": {},
   "source": [
    "Here, `i128` is the index type of `c`. Note that the value `3` in the `lowerbound` parameter is the value of the binary index. Since `u128` has exceeded the range of 64-bit integers, a numeric string is used to represent it. Finally, the last parameter `3` is the corresponding index number.\n",
    "\n",
    "The results of running the above test code are as follows:"
   ]
  },
  {
   "cell_type": "code",
   "execution_count": null,
   "id": "e68ee1aa",
   "metadata": {},
   "outputs": [],
   "source": [
    "++++++++++[{'a': 1, 'b': 22, 'c': '3'}, {'a': 111, 'b': 222, 'c': '333'}]\n",
    "++++++++++[{'a': 1, 'b': 22, 'c': '3'}, {'a': 111, 'b': 222, 'c': '333'}]"
   ]
  },
  {
   "cell_type": "markdown",
   "id": "fa0d74dd",
   "metadata": {},
   "source": [
    "## Implementation principles of the database\n",
    "\n",
    "The above code demonstrates the basic operations of the database. However, during the compilation process, some methods and classes are generated by the compiler. The following code displays the code generated by the compiler."
   ]
  },
  {
   "cell_type": "code",
   "execution_count": null,
   "id": "9ab2d791",
   "metadata": {},
   "outputs": [],
   "source": [
    "# db_example6.codon\n",
    "from chain.contract import Contract\n",
    "from chain.database import primary, secondary\n",
    "from chain.database import IdxTable64, IdxTable128, Iterator\n",
    "from chain.mi import MultiIndexBase\n",
    "from chain.name import Name\n",
    "\n",
    "@packer\n",
    "class A(object):\n",
    "    a: database.primary[u64]\n",
    "    b: secondary[u64]\n",
    "    c: secondary[u128]\n",
    "\n",
    "    def __init__(self, a: u64, b: u64, c: u128):\n",
    "        self.a = primary[u64](a)\n",
    "        self.b = secondary[u64](b)\n",
    "        self.c = secondary[u128](c)\n",
    "\n",
    "    def get_primary(self) -> u64:\n",
    "        return self.a()\n",
    "\n",
    "class MultiIndexA(MultiIndexBase[A]):\n",
    "    idx_b: IdxTable64\n",
    "    idx_c: IdxTable128\n",
    "\n",
    "    def __init__(self, code: Name, scope: Name, table: Name):\n",
    "        super().__init__(code, scope, table)\n",
    "        idx_table_base = table.value & 0xfffffffffffffff0u64\n",
    "        self.idx_b = IdxTable64(0, code, scope, Name(idx_table_base | u64(0)))\n",
    "        self.idx_c = IdxTable128(1, code, scope, Name(idx_table_base | u64(1)))\n",
    "\n",
    "    def store(self, item: A, payer: Name) -> Iterator[A]:\n",
    "        id: u64 = item.get_primary()\n",
    "        it = self.table.store(item, payer)\n",
    "        self.idx_b.store(id, item.b(), payer)\n",
    "\n",
    "        self.idx_c.store(id, item.c(), payer)\n",
    "\n",
    "        return it\n",
    "\n",
    "    def update(self, it: Iterator[A], item: A, payer: Name):\n",
    "        self.table.update(it, item, payer)\n",
    "\n",
    "        primary = item.get_primary()\n",
    "        secondary = item.b()\n",
    "        it_secondary, old_secondary = self.idx_b.find_by_primary(primary)\n",
    "        if not secondary == old_secondary:\n",
    "            self.idx_b.update(it_secondary, secondary, payer)\n",
    "\n",
    "        secondary = item.c()\n",
    "        it_secondary, old_secondary = self.idx_c.find_by_primary(primary)\n",
    "        if not secondary == old_secondary:\n",
    "            self.idx_c.update(it_secondary, secondary, payer)\n",
    "\n",
    "    def remove(self, it: Iterator[A]):\n",
    "        sec_it, _ = self.idx_b.find_by_primary(it.get_primary())\n",
    "        self.idx_b.remove(sec_it)\n",
    "\n",
    "        sec_it, _ = self.idx_c.find_by_primary(it.get_primary())\n",
    "        self.idx_c.remove(sec_it)\n",
    "\n",
    "        self.table.remove(it)\n",
    "\n",
    "    def remove(self, primary: u64):\n",
    "        it = self.table.find(primary)\n",
    "        if it.is_ok():\n",
    "            self.remove(it)\n",
    "\n",
    "    def get_idx_table_by_b(self) -> IdxTable64:\n",
    "        return self.idx_b\n",
    "\n",
    "    def get_idx_table_by_c(self) -> IdxTable128:\n",
    "        return self.idx_c\n",
    "\n",
    "    def update_b(self, it: SecondaryIterator, b: u64, payer: Name) -> None:\n",
    "        self.idx_b.update(it, b, payer)\n",
    "        it_primary = self.table.find(it.primary)\n",
    "        check(it_primary.is_ok(), \"primary iterator not found\")\n",
    "        value: A = it_primary.get_value()\n",
    "        value.b = secondary[u64](b)\n",
    "        self.table.update(it_primary, value, payer)\n",
    "\n",
    "    def update_c(self, it: SecondaryIterator, c: u128, payer: Name) -> None:\n",
    "        self.idx_c.update(it, c, payer)\n",
    "        it_primary = self.table.find(it.primary)\n",
    "        check(it_primary.is_ok(), \"primary iterator not found\")\n",
    "        value: A = it_primary.get_value()\n",
    "        value.c = secondary[u128](c)\n",
    "        self.table.update(it_primary, value, payer)\n",
    "\n",
    "@extend\n",
    "class A:\n",
    "    def new_table(code: Name, scope: Name):\n",
    "        return MultiIndexA(code, scope, n\"mytable\")\n",
    "\n",
    "@contract(main=True)\n",
    "class MyContract(Contract):\n",
    "\n",
    "    def __init__(self):\n",
    "        super().__init__()\n",
    "\n",
    "    @action('test')\n",
    "    def test(self):\n",
    "        payer = n\"hello\"\n",
    "        table = A.new_table(n\"hello\", n\"\")\n",
    "        item = A(1u64, 2u64, 3u128)\n",
    "        table.store(item, payer)\n",
    "\n",
    "        idx_table_b = table.get_idx_table_by_b()\n",
    "        it = idx_table_b.find(2u64)\n",
    "        print(\"++++++it.primary:\", it.primary)\n",
    "        assert it.primary == 1u64\n",
    "\n",
    "        idx_table_c = table.get_idx_table_by_c()\n",
    "        it = idx_table_c.find(3u128)\n",
    "        print(\"++++++it.primary:\", it.primary)\n",
    "        assert it.primary == 1u64"
   ]
  },
  {
   "cell_type": "markdown",
   "id": "1352ba09",
   "metadata": {},
   "source": [
    "This example demonstrates a scenario where there are two binary indexes. Only the name `table` was changed to `packer`. In this case, the compiler will not generate any code related to the database.\n",
    "\n",
    "By comparison, it is apparent that the compiler generates a class named `MultiIndexA`, which inherits from the `MultiIndexBase` class defined in `mi.codon`. This class has the following methods:\n",
    "\n",
    "- def store(self, item: A, payer: Name) -> Iterator[A]\n",
    "- def update(self, it: Iterator[A], item: A, payer: Name)\n",
    "- def remove(self, it: Iterator[A])\n",
    "- def get_idx_table_by_b(self) -> IdxTable64:\n",
    "- def get_idx_table_by_c(self) -> IdxTable128:\n",
    "- def update_b(self, it: SecondaryIterator, b: u64, payer: Name) -> None:\n",
    "- def update_c(self, it: SecondaryIterator, c: u128, payer: Name) -> None:\n",
    "\n",
    "In addition, the class `A` is generated, along with the following additional methods:\n",
    "\n",
    "- `get_primary`: retrieves the primary index\n",
    "- `get_idx_table_by_b`: retrieves the table indexed by `b`, returning an instance of the `IdxTable64` class\n",
    "- `get_idx_table_by_c`: retrieves the table indexed by `c`, returning an instance of the `IdxTable128` class\n",
    "- `new_table`\n",
    "\n",
    "Test code:"
   ]
  },
  {
   "cell_type": "code",
   "execution_count": null,
   "id": "db2b2744",
   "metadata": {},
   "outputs": [],
   "source": [
    "def test_example6():\n",
    "    t = init_db_test('db_example6')\n",
    "    ret = t.push_action('hello', 'test', {}, {'hello': 'active'})\n",
    "    t.produce_block()\n",
    "    logger.info(\"++++++++++%s\\n\", ret['elapsed'])"
   ]
  },
  {
   "cell_type": "markdown",
   "id": "a12bcfdd",
   "metadata": {},
   "source": [
    "Compilation:"
   ]
  },
  {
   "cell_type": "code",
   "execution_count": null,
   "id": "5b063d50",
   "metadata": {},
   "outputs": [],
   "source": [
    "python-contract build db_example/db_example6.codon"
   ]
  },
  {
   "cell_type": "markdown",
   "id": "819e337c",
   "metadata": {},
   "source": [
    "Running the test:"
   ]
  },
  {
   "cell_type": "code",
   "execution_count": null,
   "id": "9300521b",
   "metadata": {},
   "outputs": [],
   "source": [
    "%%bash\n",
    "ipyeos -m pytest -s -x test.py -k test_example6"
   ]
  },
  {
   "cell_type": "markdown",
   "id": "8ca8745d",
   "metadata": {},
   "source": [
    "Output:"
   ]
  },
  {
   "cell_type": "code",
   "execution_count": null,
   "id": "3acd3486",
   "metadata": {},
   "outputs": [],
   "source": [
    "++++++it.primary: 1\n",
    "++++++it.primary: 1"
   ]
  },
  {
   "cell_type": "markdown",
   "id": "e7411f5c",
   "metadata": {},
   "source": [
    "## Summary\n",
    "\n",
    "The data storage functionality in EOS is relatively comprehensive, and the second-level index table function makes data querying very flexible. This chapter provides a detailed explanation of the code for table operations, including adding, deleting, modifying, and querying. This chapter contains a lot of content and requires some time to digest. You can try to modify the examples and run them to gain a better understanding of the content covered in this chapter."
   ]
  }
 ],
 "metadata": {},
 "nbformat": 4,
 "nbformat_minor": 5
}
