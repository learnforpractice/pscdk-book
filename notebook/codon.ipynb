{
 "cells": [
  {
   "cell_type": "markdown",
   "id": "949f48c5",
   "metadata": {},
   "source": [

    "\n",
    "# Differences between Codon and standard Python\n",
    "\n",
    "Python is generally referred to as a dynamic language that generates relatively high-level virtual machine instructions (byte code) at compile time. When Python programs are executed, they are still interpreted by a specialized virtual machine program. The advantage is that the code is very flexible and supports dynamic modification of the code, but the disadvantage is that the execution speed is slow. The earliest Python smart contract was executed in this way. Later, in order to solve the problem of slow Python code execution speed, many solutions emerged, including tools like Codon that directly compile Python code into machine code that can be executed directly. The Python smart contract later adopted the Codon compiler, which not only preserves the ease of use of writing Python code, but also ensures execution speed. However, due to the different compilation methods, the generated target files are different, and the execution method is different from that of standard Python programs, so there are some differences in compatibility between Codon compiled Python code and standard Python code. Let's introduce these differences below to avoid confusion when writing smart contracts.\n",
    "\n",
    "## Support for method overloading in classes\n",
    "\n",
    "For example:"
   ]
  },
  {
   "cell_type": "code",
   "execution_count": null,
   "id": "879dbc03",
   "metadata": {},
   "outputs": [],
   "source": [
    "class Action(object):\n",
    "...\n",
    "    def __init__(self, account: Name, name: Name, data: bytes=bytes()):\n",
    "        ...\n",
    "\n",
    "    def __init__(self, account: Name, name: Name, permission_account: Name, data: bytes=bytes()):\n",
    "        ..."
   ]
  },
  {
   "cell_type": "markdown",
   "id": "ec256eab",
   "metadata": {},
   "source": [
    "Note that module functions do not currently support function overloading.\n",
    "\n",
    "## The `int` type in Codon is a 64-bit signed integer\n",
    "\n",
    "This is different from infinite integers in Python. One reason is that Codon is a static type language, so the code is compiled directly into machine code (binary code), rather than virtual machine instructions (byte code). Another reason is for efficiency reasons.\n",
    "\n",
    "## Numeric types in Codon\n",
    "\n",
    "In addition to the `int` type, Codon also has these numeric types: `byte`, `i8`, `u8`, `i16`, `u16`, `i32`, `u32`, `u64`, `u128`, `u256`, which are used to represent 64-bit unsigned integers, 128-bit unsigned integers, and 256-bit unsigned integers respectively.\n",
    "\n",
    "To convert other data types into `byte`, you can use methods like the ones below:"
   ]
  },
  {
   "cell_type": "code",
   "execution_count": null,
   "id": "2e577399",
   "metadata": {},
   "outputs": [],
   "source": [
    "a = byte(123)\n",
    "b = byte(int(123i8))\n",
    "c = byte(int(123u8))\n",
    "d = byte(int(123i32))\n",
    "e = byte(int(123u32))\n",
    "f = byte(int(123u64))"
   ]
  },
  {
   "cell_type": "markdown",
   "id": "92fe1fae",
   "metadata": {},
   "source": [
    "## String type\n",
    "\n",
    "Codon currently uses ASCII strings, unlike Python's unicode strings.\n",
    "\n",
    "## Dictionary type\n",
    "\n",
    "The dictionary type in Codon does not maintain the insertion order, unlike Python, which has supported this since version 3.6.\n",
    "\n",
    "## Optional type\n",
    "\n",
    "The Codon compiler provides support for the Optional type."
   ]
  },
  {
   "cell_type": "code",
   "execution_count": null,
   "id": "890c9f08",
   "metadata": {},
   "outputs": [],
   "source": [
    "class A:\n",
    "    value: u64\n",
    "    def __init__(self, value):\n",
    "        self.value = value\n",
    "a = Optional(A(123u64))"
   ]
  },
  {
   "cell_type": "markdown",
   "id": "83905afe",
   "metadata": {},
   "source": [
    "To check if the Optional type is None:"
   ]
  },
  {
   "cell_type": "code",
   "execution_count": null,
   "id": "77cfb571",
   "metadata": {},
   "outputs": [],
   "source": [
    "if a is None:\n",
    "    do_something()"
   ]
  },
  {
   "cell_type": "markdown",
   "id": "57b5783a",
   "metadata": {},
   "source": [
    "To get the value in an Optional type:"
   ]
  },
  {
   "cell_type": "code",
   "execution_count": null,
   "id": "ed411edc",
   "metadata": {},
   "outputs": [],
   "source": [
    "from internal.types.optional import unwrap\n",
    "a1 = unwrap(a)"
   ]
  },
  {
   "cell_type": "markdown",
   "id": "37c2e203",
   "metadata": {},
   "source": [
    "There is an even simpler way:"
   ]
  },
  {
   "cell_type": "code",
   "execution_count": null,
   "id": "a122161e",
   "metadata": {},
   "outputs": [],
   "source": [
    "a1: A = a"
   ]
  },
  {
   "cell_type": "markdown",
   "id": "0052b1f1",
   "metadata": {},
   "source": [
    "Here, during compilation, the compiler checks if the type is Optional, and if so, calls unwrap(a), which throws an exception if a is None.\n",
    "\n",
    "Methods or member variables in an Optional class can be accessed directly:"
   ]
  },
  {
   "cell_type": "code",
   "execution_count": null,
   "id": "f7909c33",
   "metadata": {},
   "outputs": [],
   "source": [
    "print(a.value)"
   ]
  },
  {
   "cell_type": "markdown",
   "id": "76ac47f9",
   "metadata": {},
   "source": [
    "In fact, it is equivalent to:"
   ]
  },
  {
   "cell_type": "code",
   "execution_count": null,
   "id": "0fda5499",
   "metadata": {},
   "outputs": [],
   "source": [
    "print(unwrap(a).value)"
   ]
  },
  {
   "cell_type": "markdown",
   "id": "94a9873f",
   "metadata": {},
   "source": [
    "## Union type\n",
    "\n",
    "Union type is a built-in type in Codon. In Python, there is no built-in support for Union, so the usage is different. In Codon, the data structure of Union is not defined in Codon's code and is implemented internally by the compiler, but can be represented by the following class definition:"
   ]
  },
  {
   "cell_type": "code",
   "execution_count": null,
   "id": "d02c5dc0",
   "metadata": {},
   "outputs": [],
   "source": [
    "class Union:\n",
    "    tag: byte\n",
    "    value: object"
   ]
  },
  {
   "cell_type": "markdown",
   "id": "48724014",
   "metadata": {},
   "source": [
    "Usage:"
   ]
  },
  {
   "cell_type": "code",
   "execution_count": null,
   "id": "582a8b01",
   "metadata": {},
   "outputs": [],
   "source": [
    "a = Union[int, str](123)\n",
    "print(a == 123)"
   ]
  },
  {
   "cell_type": "markdown",
   "id": "d97cec3a",
   "metadata": {},
   "source": [
    "Output: True\n",
    "\n",
    "If the type is incorrect, an exception will be thrown directly, as shown in the following code:"
   ]
  },
  {
   "cell_type": "code",
   "execution_count": null,
   "id": "6ba0e14e",
   "metadata": {},
   "outputs": [],
   "source": [
    "a = Union[int, str](123)\n",
    "print(a == \"ABC\")"
   ]
  },
  {
   "cell_type": "markdown",
   "id": "53cc89b8",
   "metadata": {},
   "source": [
    "Note that in Codon, if the types in the union are only different in their order, they are considered the same type.\n",
    "\n",
    "The following code outputs: True"
   ]
  },
  {
   "cell_type": "code",
   "execution_count": null,
   "id": "cfd1dab0",
   "metadata": {},
   "outputs": [],
   "source": [
    "a = Union[int, str](123)\n",
    "b = Union[str, int](\"abc\")\n",
    "print(isinstance(a, Union[str, int]))"
   ]
  },
  {
   "cell_type": "markdown",
   "id": "05def268",
   "metadata": {},
   "source": [
    "## Conclusion\n",
    "\n",
    "Finally, it is necessary to explain that the executable file generated after compiling the smart contract code in Python is in WebAssembly instructions, with a file extension of .wasm. In reality, there is no CPU that can execute WebAssembly instructions directly, and in most cases, they also need to be interpreted by a specialized virtual machine program during execution, but only binary code is executed. This is similar to Python's virtual machine executing byte code, but WebAssembly's instructions are more low-level than Python's virtual machine instructions, and are safer, so they can be easily translated into system machine code to optimize execution speed by JIT or AOT. In the EOS blockchain, smart contract code can be executed by `eosvm` using JIT, or by interpreting the instructions, or even by compiling into machine code that can be directly executed by the system. Python's virtual machine instructions are difficult to execute completely by JIT and AOT.\n",
    "\n",
    "In conclusion, Python smart contracts use a static compiler like Codon, sacrificing some compatibility with standard Python code for the benefit of significantly improved execution speed and security."
   ]
  }
 ],
 "metadata": {},
 "nbformat": 4,
 "nbformat_minor": 5
}
