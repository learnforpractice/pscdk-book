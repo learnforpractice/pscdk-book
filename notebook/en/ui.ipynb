{
 "cells": [
  {
   "cell_type": "markdown",
   "id": "81e1a89e",
   "metadata": {},
   "source": [

    "\n",
    "# Interact with Digital Wallets\n",
    "\n",
    "After the smart contract is written, the next step is to design a user interface to interact with the smart contract. To call the on-chain smart contract from the user interface, you must use digital wallet software. The following demo will show you how to call the `transfer` Action of the smart contract in the `eosio.token` account.\n",
    "\n",
    "## Download Anchor Wallet\n",
    "\n",
    "Download the desktop version from the link below, and choose the latest version:"
   ]
  },
  {
   "cell_type": "code",
   "execution_count": null,
   "id": "22bdefe1",
   "metadata": {},
   "outputs": [],
   "source": [
    "https://github.com/greymass/anchor/tags"
   ]
  },
  {
   "cell_type": "markdown",
   "id": "30e1065a",
   "metadata": {},
   "source": [
    "For mobile versions, search for \"Anchor Wallet\" in the app store to download.\n",
    "\n",
    "After downloading, import the private key of your EOS account to use the wallet. The desktop version also supports Ledger hardware wallets.\n",
    "\n",
    "## Web Page Code\n",
    "\n",
    "The following HTML code only relies on anchor.min.js and can be run directly when opened locally. The complete code can be found in the link below, or you can try the following example directly. Make sure you have already installed the Anchor wallet and imported the account private key:"
   ]
  },
  {
   "cell_type": "code",
   "execution_count": null,
   "id": "7f602632",
   "metadata": {},
   "outputs": [],
   "source": [
    "https://github.com/learnforpractice/pscdk-book/tree/main/examples/frontend"
   ]
  },
  {
   "cell_type": "markdown",
   "id": "041de68a",
   "metadata": {},
   "source": [
    "<style>\n",
    "    form {\n",
    "        background-color: #f0f0f0;\n",
    "        padding: 20px;\n",
    "        border-radius: 10px;\n",
    "        box-shadow: 0 2px 5px rgba(0, 0, 0, 0.5);\n",
    "    }\n",
    "    form button {\n",
    "        color: #ffffff; /* You can change this color to your desired foreground color */\n",
    "        background-color: #007bff;\n",
    "        padding: 5px 10px;\n",
    "        border: none;\n",
    "        border-radius: 5px;\n",
    "        cursor: pointer;\n",
    "    }"
   ]
  },
  {
   "cell_type": "code",
   "execution_count": null,
   "id": "fb529c56",
   "metadata": {},
   "outputs": [],
   "source": [
    "form button:hover {\n",
    "    background-color: #0056b3;\n",
    "}\n",
    "form label {\n",
    "    display: inline-block;\n",
    "    width: 100px; /* Adjust this value to set the desired width for the labels */\n",
    "    text-align: left;\n",
    "    margin-right: 10px;\n",
    "}\n",
    "</style>\n",
    "<script src=\"../assets/javascripts/anchor.min.js\"></script>\n",
    "<script>\n",
    "const eos = {\n",
    "chainId: 'aca376f206b8fc25a6ed44dbdc66547c36c6c33e3a119ffbeaef943642f0e906',\n",
    "rpcEndpoints: [{\n",
    "protocol: 'https',\n",
    "host: 'eos.greymass.com',\n",
    "port: '443',\n",
    "}]\n",
    "}"
   ]
  },
  {
   "cell_type": "markdown",
   "id": "54349b31",
   "metadata": {},
   "source": [
    "var wallet = new anchor.Anchor([eos], {\n",
    "    // Required: The app name, required by anchor-link. Short string identifying the app\n",
    "    appName: 'my-example-dapp',\n",
    "    // Optional: a @greymass/eosio APIClient from eosjs for both your use and to use internally in UAL\n",
    "    // client = new APIClient({ provider }),\n",
    "    // Optional: a JsonRpc instance from eosjs for your use\n",
    "    // rpc: new JsonRpc(),\n",
    "    // Optional: The callback service URL to use, defaults to https://cb.anchor.link\n",
    "    service: 'https://cb.anchor.link',\n",
    "    // Optional: A flag to disable the Greymass Fuel integration, defaults to false (enabled)\n",
    "    // disableGreymassFuel: false,\n",
    "    // Optional: An account name on a Fuel enabled network to specify as the referrer for transactions\n",
    "    // fuelReferrer: 'teamgreymass',\n",
    "    // Optional: A flag to enable the Anchor Link UI request status, defaults to true (enabled)\n",
    "    // requestStatus: true,  \n",
    "    // Optional: Whether or not to verify the signatures during user login, defaults to false (disabled)\n",
    "    // verifyProofs: false,\n",
    "});\n",
    "\n",
    "(async () => {\n",
    "    await wallet.init();\n",
    "})();\n",
    "\n",
    "window.wallet = wallet;\n",
    "</script>\n",
    "<form>\n",
    "    <button type=\"button\" id=\"login\">Login</button>\n",
    "    <button type=\"button\" id=\"logout\">Logout</button><br><br>\n",
    "    <label for=\"account\">To Account:</label>\n",
    "    <input type=\"text\" id=\"account\" name=\"account\"><br><br>\n",
    "    <label for=\"amount\">Quantity:</label>\n",
    "    <input type=\"number\" id=\"amount\" name=\"amount\" value=\"0.0001\"><label>EOS</label><br><br>\n",
    "    <label for=\"memo\">Memo:</label>\n",
    "    <input type=\"text\" id=\"memo\" name=\"memo\" value=\"hello world\"><br><br>\n",
    "    <button type=\"button\" id=\"transfer\">Transfer</button>\n",
    "</form>\n",
    "\n",
    "<script>\n",
    "    document.getElementById(\"transfer\").addEventListener(\"click\", async function() {\n",
    "        if (wallet.users.length == 0) {\n",
    "            alert(\"please login first!\");\n",
    "            return;\n",
    "        }\n",
    "        let account = document.getElementById(\"account\").value;\n",
    "        let amount = document.getElementById(\"amount\").value;\n",
    "        let memo = document.getElementById(\"memo\").value;"
   ]
  },
  {
   "cell_type": "code",
   "execution_count": null,
   "id": "20810b9e",
   "metadata": {},
   "outputs": [],
   "source": [
    "console.log(\"Account: \" + account);\n",
    "console.log(\"Amount: \" + amount);\n",
    "console.log(\"Memo: \" + memo);\n",
    "\n",
    "amount = parseFloat(amount).toFixed(4);\n",
    "let user = wallet.users[0];\n",
    "let args = {\n",
    "    action: {\n",
    "        account: 'eosio.token',\n",
    "        name: 'transfer',\n",
    "        authorization: [user.session.auth],\n",
    "        data: {\n",
    "            from: user.session.auth.actor,\n",
    "            to: account,\n",
    "            quantity: `${amount} EOS`,\n",
    "            memo: memo,\n",
    "        },\n",
    "    },\n",
    "}\n",
    "var ret = await user.session.transact(args);\n",
    "console.log(ret);\n",
    "alert(JSON.stringify(ret.processed));\n",
    "    });"
   ]
  },
  {
   "cell_type": "markdown",
   "id": "476f4938",
   "metadata": {},
   "source": [
    "document.getElementById(\"login\").addEventListener(\"click\", async function() {\n",
    "        if (wallet.users.length == 0) {\n",
    "            var ret = await wallet.login();\n",
    "            console.log(\"++++++:\", ret);\n",
    "        }\n",
    "    });"
   ]
  },
  {
   "cell_type": "code",
   "execution_count": null,
   "id": "18730bb1",
   "metadata": {},
   "outputs": [],
   "source": [
    "document.getElementById(\"logout\").addEventListener(\"click\", async function() {\n",
    "    if (wallet.users.length != 0) {\n",
    "        await wallet.logout();\n",
    "    }\n",
    "});\n",
    "</script>"
   ]
  },
  {
   "cell_type": "code",
   "execution_count": null,
   "id": "1cec2826",
   "metadata": {
    "attributes": {
     "classes": [
      "html"
     ],
     "id": ""
    }
   },
   "outputs": [],
   "source": [
    "<!DOCTYPE html>\n",
    "<html lang=\"zh-CN\">\n",
    "<head>\n",
    "    <meta charset=\"UTF-8\">\n",
    "    <meta name=\"viewport\" content=\"width=device-width, initial-scale=1.0\">\n",
    "    <title>发送Token示例</title>\n",
    "    <style>\n",
    "        body {\n",
    "            margin: 0;\n",
    "            min-height: 100vh;\n",
    "            display: flex;\n",
    "            justify-content: center;\n",
    "            align-items: center;\n",
    "            background-color: #f0f0f0;\n",
    "        }\n",
    "        form {\n",
    "            background-color: #ffffff;\n",
    "            padding: 20px;\n",
    "            border-radius: 5px;\n",
    "            box-shadow: 0 2px 5px rgba(0, 0, 0, 0.1);\n",
    "        }\n",
    "    </style>\n",
    "    <script src=\"./anchor.min.js\"></script>\n",
    "    <script>\n",
    "    const eos = {\n",
    "      chainId: 'aca376f206b8fc25a6ed44dbdc66547c36c6c33e3a119ffbeaef943642f0e906',\n",
    "      rpcEndpoints: [{\n",
    "        protocol: 'https',\n",
    "        host: 'eos.greymass.com',\n",
    "        port: '443',\n",
    "      }]\n",
    "    }\n",
    "    \n",
    "    var wallet = new anchor.Anchor([eos], {\n",
    "      // Required: The app name, required by anchor-link. Short string identifying the app\n",
    "      appName: 'my-example-dapp',\n",
    "      // Optional: a @greymass/eosio APIClient from eosjs for both your use and to use internally in UAL\n",
    "      // client = new APIClient({ provider }),\n",
    "      // Optional: a JsonRpc instance from eosjs for your use\n",
    "      // rpc: new JsonRpc(),\n",
    "      // Optional: The callback service URL to use, defaults to https://cb.anchor.link\n",
    "      service: 'https://cb.anchor.link',\n",
    "      // Optional: A flag to disable the Greymass Fuel integration, defaults to false (enabled)\n",
    "      // disableGreymassFuel: false,\n",
    "      // Optional: An account name on a Fuel enabled network to specify as the referrer for transactions\n",
    "      // fuelReferrer: 'teamgreymass',\n",
    "      // Optional: A flag to enable the Anchor Link UI request status, defaults to true (enabled)\n",
    "      // requestStatus: true,  \n",
    "      // Optional: Whether or not to verify the signatures during user login, defaults to false (disabled)\n",
    "      // verifyProofs: false,\n",
    "    });\n",
    "\n",
    "    (async () => {\n",
    "        await wallet.init();\n",
    "    })();\n",
    "\n",
    "    window.wallet = wallet;\n",
    "    </script>\n",
    "</head>\n",
    "<body>\n",
    "    <form>\n",
    "        <button type=\"button\" id=\"login\">Login</button>\n",
    "        <button type=\"button\" id=\"logout\">Logout</button><br><br>\n",
    "        <label for=\"account\">To Account:</label>\n",
    "        <input type=\"text\" id=\"account\" name=\"account\"><br><br>\n",
    "        <label for=\"amount\">Quantity:</label>\n",
    "        <input type=\"number\" id=\"amount\" name=\"amount\" value=\"0.0001\"><label>EOS</label><br><br>\n",
    "        <label for=\"memo\">Memo:</label>\n",
    "        <input type=\"text\" id=\"memo\" name=\"memo\" value=\"hello world\"><br><br>\n",
    "        <button type=\"button\" id=\"transfer\">Transfer</button>\n",
    "    </form>\n",
    "\n",
    "    <script>\n",
    "        document.getElementById(\"transfer\").addEventListener(\"click\", async function() {\n",
    "            if (wallet.users.length == 0) {\n",
    "                alert(\"please login first!\");\n",
    "                return;\n",
    "            }\n",
    "            let account = document.getElementById(\"account\").value;\n",
    "            let amount = document.getElementById(\"amount\").value;\n",
    "            let memo = document.getElementById(\"memo\").value;\n",
    "\n",
    "            console.log(\"Account: \" + account);\n",
    "            console.log(\"Amount: \" + amount);\n",
    "            console.log(\"Memo: \" + memo);\n",
    "\n",
    "            amount = parseFloat(amount).toFixed(4);\n",
    "            let user = wallet.users[0];\n",
    "            let args = {\n",
    "                action: {\n",
    "                    account: 'eosio.token',\n",
    "                    name: 'transfer',\n",
    "                    authorization: [user.session.auth],\n",
    "                    data: {\n",
    "                        from: user.session.auth.actor,\n",
    "                        to: account,\n",
    "                        quantity: `${amount} EOS`,\n",
    "                        memo: memo,\n",
    "                    },\n",
    "                },\n",
    "            }\n",
    "            var ret = await user.session.transact(args);\n",
    "            console.log(ret);\n",
    "            alert(JSON.stringify(ret.processed));\n",
    "        });\n",
    "\n",
    "        document.getElementById(\"login\").addEventListener(\"click\", async function() {\n",
    "            if (wallet.users.length == 0) {\n",
    "                var ret = await wallet.login();\n",
    "                console.log(\"++++++:\", ret);\n",
    "            }\n",
    "        });\n",
    "\n",
    "        document.getElementById(\"logout\").addEventListener(\"click\", async function() {\n",
    "            if (wallet.users.length != 0) {\n",
    "                await wallet.logout();\n",
    "            }\n",
    "        });\n",
    "    </script>\n",
    "</body>\n",
    "</html>"
   ]
  },
  {
   "cell_type": "markdown",
   "id": "fb08b447",
   "metadata": {},
   "source": [
    "A simple explanation:\n",
    "\n",
    "When the web page is initializing, it will call `new anchor.Anchor` to create a wallet instance. Then it calls `wallet.init` for initialization, note that `init` is an asynchronous function."
   ]
  },
  {
   "cell_type": "code",
   "execution_count": null,
   "id": "9a82a78b",
   "metadata": {
    "attributes": {
     "classes": [
      "javascript"
     ],
     "id": ""
    }
   },
   "outputs": [],
   "source": [
    "var wallet = new anchor.Anchor\n",
    "wallet.init()"
   ]
  },
  {
   "cell_type": "markdown",
   "id": "9d42a4cc",
   "metadata": {},
   "source": [
    "Click `Login` to connect to the wallet client first. A dialog box will pop up, click `Launch Anchor` to open the desktop wallet or open the `Anchor` app on your phone to scan the QR code for authorization."
   ]
  },
  {
   "cell_type": "code",
   "execution_count": null,
   "id": "d79b1176",
   "metadata": {
    "attributes": {
     "classes": [
      "javascript"
     ],
     "id": ""
    }
   },
   "outputs": [],
   "source": [
    "await wallet.login()"
   ]
  },
  {
   "cell_type": "markdown",
   "id": "3bf2fe7a",
   "metadata": {},
   "source": [
    "Click `Logout` to cancel the authorization."
   ]
  },
  {
   "cell_type": "code",
   "execution_count": null,
   "id": "3157c150",
   "metadata": {
    "attributes": {
     "classes": [
      "javascript"
     ],
     "id": ""
    }
   },
   "outputs": [],
   "source": [
    "await wallet.logout()"
   ]
  },
  {
   "cell_type": "markdown",
   "id": "6f9990fb",
   "metadata": {},
   "source": [
    "Note that both `login` and `logout` functions are asynchronous.\n",
    "\n",
    "Enter a valid transfer account and transfer amount, then click `Transfer` to prompt the authorization dialog on your phone or desktop software. Please ensure the Action described on the interface is accurate before confirming authorization. Below is the related code, calling the `transfer` Action of `eosio.token`."
   ]
  },
  {
   "cell_type": "code",
   "execution_count": null,
   "id": "fe5e6291",
   "metadata": {
    "attributes": {
     "classes": [
      "javascript"
     ],
     "id": ""
    }
   },
   "outputs": [],
   "source": [
    "let user = wallet.users[0];\n",
    "let args = {\n",
    "    action: {\n",
    "        account: 'eosio.token',\n",
    "        name: 'transfer',\n",
    "        authorization: [user.session.auth],\n",
    "        data: {\n",
    "            from: user.session.auth.actor,\n",
    "            to: account,\n",
    "            quantity: `${amount} EOS`,\n",
    "            memo: memo,\n",
    "        },\n",
    "    },\n",
    "}\n",
    "var ret = await user.session.transact(args);"
   ]
  },
  {
   "cell_type": "markdown",
   "id": "043e655b",
   "metadata": {},
   "source": [
    "Summary:\n",
    "\n",
    "In the above example, `anchor.min.js` is the front-end library code generated by webpack from ual-anchor library."
   ]
  },
  {
   "cell_type": "code",
   "execution_count": null,
   "id": "01b6e3ff",
   "metadata": {},
   "outputs": [],
   "source": [
    "https://github.com/greymass/ual-anchor"
   ]
  },
  {
   "cell_type": "markdown",
   "id": "2e5da101",
   "metadata": {},
   "source": [
    "The above example only demonstrates a simple case. In actual examples, you may need to use application frameworks like `vuejs`, `react`, `svelte`, etc. These frameworks can directly use the `ual-anchor` library. You can refer to the following examples for implementation:"
   ]
  },
  {
   "cell_type": "code",
   "execution_count": null,
   "id": "77a48c21",
   "metadata": {},
   "outputs": [],
   "source": [
    "https://github.com/greymass/ual-anchor-demo"
   ]
  }
 ],
 "metadata": {},
 "nbformat": 4,
 "nbformat_minor": 5
}
