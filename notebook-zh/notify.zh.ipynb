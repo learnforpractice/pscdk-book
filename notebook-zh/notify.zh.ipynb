{
 "cells": [
  {
   "cell_type": "markdown",
   "id": "4e305f5c",
   "metadata": {},
   "source": [

    "\n",
    "# require_recipient函数\n",
    "\n",
    "函数在`action.codon`中的声明如下："
   ]
  },
  {
   "cell_type": "code",
   "execution_count": null,
   "id": "238b0baf",
   "metadata": {},
   "outputs": [],
   "source": [
    "def require_recipient(account: Name):"
   ]
  },
  {
   "cell_type": "markdown",
   "id": "f868983a",
   "metadata": {},
   "source": [
    "`require_recipient`函数用来通知其它合约. 如果account合约有相同的action，那么这个action将被调用。\n",
    "\n",
    "以下的`sender.codon`, `receiver.codon`的代码演示了如何从一个合约发送通知到另一个合约。"
   ]
  },
  {
   "cell_type": "code",
   "execution_count": null,
   "id": "cd86a26a",
   "metadata": {},
   "outputs": [],
   "source": [
    "# sender.codon\n",
    "from chain.name import Name\n",
    "from chain.contract import Contract\n",
    "from chain.action import require_recipient\n",
    "\n",
    "@contract(main=True)\n",
    "class MyContract(Contract):\n",
    "\n",
    "    @action('sayhello')\n",
    "    def sayhello(self, receiver: Name):\n",
    "        print('hello, world')\n",
    "        require_recipient(receiver)"
   ]
  },
  {
   "cell_type": "code",
   "execution_count": null,
   "id": "355d0169",
   "metadata": {},
   "outputs": [],
   "source": [
    "# receiver.codon\n",
    "from chain.name import Name\n",
    "from chain.contract import Contract\n",
    "\n",
    "@contract(main=True)\n",
    "class MyContract(Contract):\n",
    "\n",
    "    @action('sayhello', notify=True)\n",
    "    def sayhello(self, receiver: Name):\n",
    "        assert not self.receiver == self.first_receiver\n",
    "        assert receiver == self.receiver\n",
    "        print('hello, world from notify')"
   ]
  },
  {
   "cell_type": "markdown",
   "id": "94b85b82",
   "metadata": {},
   "source": [
    "这里，要注意的是，`receiver.codon`中的`sayhello`函数和`sender.codon`中的`sayhello`函数的定义有些不同，`receiver.codon`中的`sayhello`的`action`decorator中多了`notify=True`，这是用来指定这个action是一个用来接收通知的action，只能通过调用`require_recipient`来触发。\n",
    "\n",
    "以下是测试代码："
   ]
  },
  {
   "cell_type": "code",
   "execution_count": null,
   "id": "6e480f2a",
   "metadata": {},
   "outputs": [],
   "source": [
    "def init_notify():\n",
    "    t = ChainTester(True)\n",
    "    update_auth(t, 'hello')\n",
    "\n",
    "    wasm_file = os.path.join(dir_name, 'notify/sender.wasm')\n",
    "    with open(wasm_file, 'rb') as f:\n",
    "        code = f.read()\n",
    "    abi_file = os.path.join(dir_name, 'notify/sender.abi')\n",
    "    with open(abi_file, 'r') as f:\n",
    "        abi = f.read()\n",
    "    t.deploy_contract('hello', code, abi)\n",
    "    t.produce_block()\n",
    "\n",
    "    wasm_file = os.path.join(dir_name, 'notify/receiver.wasm')\n",
    "    with open(wasm_file, 'rb') as f:\n",
    "        code = f.read()\n",
    "    abi_file = os.path.join(dir_name, 'notify/receiver.abi')\n",
    "    with open(abi_file, 'r') as f:\n",
    "        abi = f.read()\n",
    "    t.deploy_contract('alice', code, abi)\n",
    "    t.produce_block()\n",
    "    return t\n",
    "\n",
    "def test_notify():\n",
    "    t = init_notify()\n",
    "    args = {'receiver': 'alice'}\n",
    "    ret = t.push_action('hello', 'sayhello', args, {'hello': 'active'})\n",
    "    t.produce_block()\n",
    "    logger.info(\"++++++++++%s\\n\", ret['elapsed'])"
   ]
  },
  {
   "cell_type": "markdown",
   "id": "96e4f7bd",
   "metadata": {},
   "source": [
    "编译："
   ]
  },
  {
   "cell_type": "code",
   "execution_count": null,
   "id": "68e8672d",
   "metadata": {},
   "outputs": [],
   "source": [
    "%%bash\n",
    "python-contract build notify/receiver.codon\n",
    "python-contract build notify/sender.codon"
   ]
  },
  {
   "cell_type": "markdown",
   "id": "8ab9503d",
   "metadata": {},
   "source": [
    "测试："
   ]
  },
  {
   "cell_type": "code",
   "execution_count": null,
   "id": "16de93fa",
   "metadata": {},
   "outputs": [],
   "source": [
    "%%bash\n",
    "ipyeos -m pytest -s -x test.py -k test_notify"
   ]
  },
  {
   "cell_type": "markdown",
   "id": "11b8ce29",
   "metadata": {},
   "source": [
    "输出："
   ]
  },
  {
   "cell_type": "code",
   "execution_count": null,
   "id": "c2fb843f",
   "metadata": {},
   "outputs": [],
   "source": [
    "[(hello,sayhello)->hello]: CONSOLE OUTPUT BEGIN =====================\n",
    "hello, world\n",
    "\n",
    "[(hello,sayhello)->hello]: CONSOLE OUTPUT END   =====================\n",
    "debug 2023-03-28T13:08:01.110 thread-0  apply_context.cpp:30          print_debug          ] \n",
    "[(hello,sayhello)->alice]: CONSOLE OUTPUT BEGIN =====================\n",
    "hello, world from notify\n",
    "\n",
    "[(hello,sayhello)->alice]: CONSOLE OUTPUT END   ====================="
   ]
  }
 ],
 "metadata": {},
 "nbformat": 4,
 "nbformat_minor": 5
}
