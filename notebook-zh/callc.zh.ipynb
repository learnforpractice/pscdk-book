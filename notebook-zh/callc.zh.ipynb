{
 "cells": [
  {
   "cell_type": "markdown",
   "id": "c7c5aa06",
   "metadata": {},
   "source": [

    "\n",
    "# Codon代码里调用C/C++代码\n",
    "\n",
    "首先，用下面的命令安装`eoscdt`用于编译c或者是c++代码:"
   ]
  },
  {
   "cell_type": "code",
   "execution_count": null,
   "id": "0edbf8b7",
   "metadata": {},
   "outputs": [],
   "source": [
    "%%bash\n",
    "python3 -m pip install -U eoscdt"
   ]
  },
  {
   "cell_type": "markdown",
   "id": "5381b834",
   "metadata": {},
   "source": [
    "下面以编译`say_hello`函数为例，演示如何编译代码：\n",
    "\n",
    "如果源文件是c代码，例如：\n",
    "\n",
    "say_hello.c"
   ]
  },
  {
   "cell_type": "code",
   "execution_count": null,
   "id": "0492b81e",
   "metadata": {
    "attributes": {
     "classes": [
      "c"
     ],
     "id": ""
    }
   },
   "outputs": [],
   "source": [
    "void prints(const char *s);\n",
    "\n",
    "void say_hello(const char *s) {\n",
    "\tprints(s);\n",
    "}"
   ]
  },
  {
   "cell_type": "markdown",
   "id": "afbe5103",
   "metadata": {},
   "source": [
    "则用下面的命令编译："
   ]
  },
  {
   "cell_type": "code",
   "execution_count": null,
   "id": "14526b59",
   "metadata": {},
   "outputs": [],
   "source": [
    "%%bash\n",
    "cdt-cc -c -o say_hello.o say_hello.c"
   ]
  },
  {
   "cell_type": "markdown",
   "id": "8a3eb592",
   "metadata": {},
   "source": [
    "如果源文件是c++代码，例如：\n",
    "\n",
    "say_hello.cpp"
   ]
  },
  {
   "cell_type": "code",
   "execution_count": null,
   "id": "d5758016",
   "metadata": {
    "attributes": {
     "classes": [
      "cpp"
     ],
     "id": ""
    }
   },
   "outputs": [],
   "source": [
    "extern \"C\" void prints(const char *s);\n",
    "\n",
    "extern \"C\" void say_hello(const char *s) {\n",
    "\tprints(s);\n",
    "}"
   ]
  },
  {
   "cell_type": "markdown",
   "id": "1f752eab",
   "metadata": {},
   "source": [
    "则用下面的命令编译："
   ]
  },
  {
   "cell_type": "code",
   "execution_count": null,
   "id": "7f8d224d",
   "metadata": {},
   "outputs": [],
   "source": [
    "%%bash\n",
    "cdt-cpp -c -o say_hello.o say_hello.cpp"
   ]
  },
  {
   "cell_type": "markdown",
   "id": "b74278a4",
   "metadata": {},
   "source": [
    "注意，如果是C++文件，则需在函数前面加上`extern \"C\"`，否则会在链接时出错。\n",
    "\n",
    "接下来看下如何在codon中使用`say_hello`这个函数：\n",
    "\n",
    "test.codon"
   ]
  },
  {
   "cell_type": "code",
   "execution_count": null,
   "id": "aa47effa",
   "metadata": {},
   "outputs": [],
   "source": [
    "from chain.contract import Contract\n",
    "\n",
    "from C import say_hello(cobj);\n",
    "\n",
    "@contract(main=True)\n",
    "class MyContract(Contract):\n",
    "\n",
    "    @action(\"sayhello\")\n",
    "    def say_hello(self):\n",
    "        say_hello(\"hello, world\".c_str())"
   ]
  },
  {
   "cell_type": "markdown",
   "id": "9e25a1c9",
   "metadata": {},
   "source": [
    "这里的"
   ]
  },
  {
   "cell_type": "code",
   "execution_count": null,
   "id": "1f2a6933",
   "metadata": {},
   "outputs": [],
   "source": [
    "from C import say_hello(cobj);"
   ]
  },
  {
   "cell_type": "markdown",
   "id": "ac3c9a4d",
   "metadata": {},
   "source": [
    "即告诉codon编译器要链接`say_hello`这个c函数。所有的C/C++里的指针类型都对应Codon里的`cobj`类型\n",
    "\n",
    "下面的这行代码即是调用c函数，c_str返回的值是`cobj`类型, 相当于C/C++里的`const char *`类型"
   ]
  },
  {
   "cell_type": "code",
   "execution_count": null,
   "id": "c118f661",
   "metadata": {},
   "outputs": [],
   "source": [
    "say_hello(\"abc\".c_str())"
   ]
  },
  {
   "cell_type": "markdown",
   "id": "315c313a",
   "metadata": {},
   "source": [
    "接下来用下面的命令来编译："
   ]
  },
  {
   "cell_type": "code",
   "execution_count": null,
   "id": "59026280",
   "metadata": {},
   "outputs": [],
   "source": [
    "%%bash\n",
    "python-contract build --linker-flags=\"say_hello.o\" test.codon"
   ]
  },
  {
   "cell_type": "markdown",
   "id": "b1f6c2ff",
   "metadata": {},
   "source": [
    "这里的`--linker-flags=\"say_hello.o`即是告诉编译器要链接`say_hello.o`这个obj文件\n",
    "\n",
    "接下来用下面的代码来测试：\n",
    "\n",
    "test.py"
   ]
  },
  {
   "cell_type": "code",
   "execution_count": null,
   "id": "b0f57c2f",
   "metadata": {},
   "outputs": [],
   "source": [
    "import os\n",
    "from ipyeos import eos\n",
    "from ipyeos import chaintester\n",
    "from ipyeos.chaintester import ChainTester\n",
    "from ipyeos import log\n",
    "from pyeoskit import eosapi\n",
    "\n",
    "chaintester.chain_config['contracts_console'] = True\n",
    "eos.set_log_level(\"default\", 3)\n",
    "\n",
    "logger = log.get_logger(__name__)\n",
    "\n",
    "dir_name = os.path.dirname(os.path.abspath(__file__))\n",
    "\n",
    "def init_test(contract_name):\n",
    "    t = ChainTester(True)\n",
    "    wasm_file = os.path.join(dir_name, f'{contract_name}.wasm')\n",
    "    with open(wasm_file, 'rb') as f:\n",
    "        code = f.read()\n",
    "\n",
    "    abi_file = os.path.join(dir_name, f'{contract_name}.abi')\n",
    "    with open(abi_file, 'r') as f:\n",
    "        abi = f.read()\n",
    "\n",
    "    t.deploy_contract('hello', code, abi)\n",
    "    t.produce_block()\n",
    "    eos.set_log_level(\"default\", 1)\n",
    "    return t\n",
    "\n",
    "def test_say_hello():\n",
    "    t = init_test('test')\n",
    "    ret = t.push_action('hello', 'sayhello', \"\", {'hello': 'active'})\n",
    "    t.produce_block()\n",
    "    logger.info(\"++++++++++%s\\n\", ret['elapsed'])"
   ]
  },
  {
   "cell_type": "markdown",
   "id": "a720ae79",
   "metadata": {},
   "source": [
    "运行测试："
   ]
  },
  {
   "cell_type": "code",
   "execution_count": null,
   "id": "cbd506b2",
   "metadata": {},
   "outputs": [],
   "source": [
    "%%bash\n",
    "ipyeos -m pytest -s -x test.py -k test_say_hello"
   ]
  },
  {
   "cell_type": "markdown",
   "id": "cdc7453a",
   "metadata": {},
   "source": [
    "会有下面的输出："
   ]
  },
  {
   "cell_type": "code",
   "execution_count": null,
   "id": "cdd1c726",
   "metadata": {},
   "outputs": [],
   "source": [
    "hello, world"
   ]
  },
  {
   "cell_type": "markdown",
   "id": "dd8607cd",
   "metadata": {},
   "source": [
    "[完整代码链接](https://github.com/learnforpractice/pscdk-book/tree/main/examples/callc)"
   ]
  }
 ],
 "metadata": {},
 "nbformat": 4,
 "nbformat_minor": 5
}
