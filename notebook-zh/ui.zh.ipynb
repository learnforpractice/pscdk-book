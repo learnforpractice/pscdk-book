{
 "cells": [
  {
   "cell_type": "markdown",
   "id": "bc1cc704",
   "metadata": {},
   "source": [

    "\n",
    "# 与数字钱包进行交互\n",
    "\n",
    "当智能合约写好后，下一个步骤就是如何设计用户界面来与智能合约进行交互。在用户界面要调用链上的智能合约，必须通过数字钱包软件，正面的示例是演示的通过`Anchor`这个钱包来发送交易。实现的功能是调用`eosio.token`这个账号里的智能合约的`transfer`Action。\n",
    "\n",
    "## 下载Anchor钱包\n",
    "\n",
    "桌面版本通过正面的链接下载选择最新版本下载："
   ]
  },
  {
   "cell_type": "code",
   "execution_count": null,
   "id": "bb956a6f",
   "metadata": {},
   "outputs": [],
   "source": [
    "https://github.com/greymass/anchor/tags"
   ]
  },
  {
   "cell_type": "markdown",
   "id": "c5ce772d",
   "metadata": {},
   "source": [
    "手机版本通过应用商店搜索`Anchor Wallet`进行下载\n",
    "\n",
    "下载后导入EOS的账号的私钥即可使用，桌面版本也支持ledger硬件钱包\n",
    "\n",
    "## 网页代码\n",
    "\n",
    "下面这个html代码只依赖于`anchor.min.js`，可以在本地打开直接运行，完整的代码可以从下面的链接中找到，也可以直接尝试下面这个例子，需要事先安装好anchor钱包并且已经导入了账号私钥："
   ]
  },
  {
   "cell_type": "code",
   "execution_count": null,
   "id": "7603f69a",
   "metadata": {},
   "outputs": [],
   "source": [
    "https://github.com/learnforpractice/pscdk-book/tree/main/examples/frontend"
   ]
  },
  {
   "cell_type": "markdown",
   "id": "2466fbc6",
   "metadata": {},
   "source": [
    "<style>\n",
    "    form {\n",
    "        background-color: #f0f0f0;\n",
    "        padding: 20px;\n",
    "        border-radius: 10px;\n",
    "        box-shadow: 0 2px 5px rgba(0, 0, 0, 0.5);\n",
    "    }\n",
    "    form button {\n",
    "        color: #ffffff; /* You can change this color to your desired foreground color */\n",
    "        background-color: #007bff;\n",
    "        padding: 5px 10px;\n",
    "        border: none;\n",
    "        border-radius: 5px;\n",
    "        cursor: pointer;\n",
    "    }"
   ]
  },
  {
   "cell_type": "code",
   "execution_count": null,
   "id": "244e4ffe",
   "metadata": {},
   "outputs": [],
   "source": [
    "form button:hover {\n",
    "    background-color: #0056b3;\n",
    "}\n",
    "form label {\n",
    "    display: inline-block;\n",
    "    width: 100px; /* Adjust this value to set the desired width for the labels */\n",
    "    text-align: left;\n",
    "    margin-right: 10px;\n",
    "}\n",
    "</style>\n",
    "<script src=\"../../assets/javascripts/anchor.min.js\"></script>\n",
    "<script>\n",
    "const eos = {\n",
    "chainId: 'aca376f206b8fc25a6ed44dbdc66547c36c6c33e3a119ffbeaef943642f0e906',\n",
    "rpcEndpoints: [{\n",
    "protocol: 'https',\n",
    "host: 'eos.greymass.com',\n",
    "port: '443',\n",
    "}]\n",
    "}"
   ]
  },
  {
   "cell_type": "markdown",
   "id": "288fbe75",
   "metadata": {},
   "source": [
    "var wallet = new anchor.Anchor([eos], {\n",
    "    // Required: The app name, required by anchor-link. Short string identifying the app\n",
    "    appName: 'my-example-dapp',\n",
    "    // Optional: a @greymass/eosio APIClient from eosjs for both your use and to use internally in UAL\n",
    "    // client = new APIClient({ provider }),\n",
    "    // Optional: a JsonRpc instance from eosjs for your use\n",
    "    // rpc: new JsonRpc(),\n",
    "    // Optional: The callback service URL to use, defaults to https://cb.anchor.link\n",
    "    service: 'https://cb.anchor.link',\n",
    "    // Optional: A flag to disable the Greymass Fuel integration, defaults to false (enabled)\n",
    "    // disableGreymassFuel: false,\n",
    "    // Optional: An account name on a Fuel enabled network to specify as the referrer for transactions\n",
    "    // fuelReferrer: 'teamgreymass',\n",
    "    // Optional: A flag to enable the Anchor Link UI request status, defaults to true (enabled)\n",
    "    // requestStatus: true,  \n",
    "    // Optional: Whether or not to verify the signatures during user login, defaults to false (disabled)\n",
    "    // verifyProofs: false,\n",
    "});\n",
    "\n",
    "(async () => {\n",
    "    await wallet.init();\n",
    "})();\n",
    "\n",
    "window.wallet = wallet;\n",
    "</script>\n",
    "<form>\n",
    "    <button type=\"button\" id=\"login\">Login</button>\n",
    "    <button type=\"button\" id=\"logout\">Logout</button><br><br>\n",
    "    <label for=\"account\">To Account:</label>\n",
    "    <input type=\"text\" id=\"account\" name=\"account\"><br><br>\n",
    "    <label for=\"amount\">Quantity:</label>\n",
    "    <input type=\"number\" id=\"amount\" name=\"amount\" value=\"0.0001\"><label>EOS</label><br><br>\n",
    "    <label for=\"memo\">Memo:</label>\n",
    "    <input type=\"text\" id=\"memo\" name=\"memo\" value=\"hello world\"><br><br>\n",
    "    <button type=\"button\" id=\"transfer\">Transfer</button>\n",
    "</form>\n",
    "\n",
    "<script>\n",
    "    document.getElementById(\"transfer\").addEventListener(\"click\", async function() {\n",
    "        if (wallet.users.length == 0) {\n",
    "            alert(\"please login first!\");\n",
    "            return;\n",
    "        }\n",
    "        let account = document.getElementById(\"account\").value;\n",
    "        let amount = document.getElementById(\"amount\").value;\n",
    "        let memo = document.getElementById(\"memo\").value;"
   ]
  },
  {
   "cell_type": "code",
   "execution_count": null,
   "id": "a283fde6",
   "metadata": {},
   "outputs": [],
   "source": [
    "console.log(\"Account: \" + account);\n",
    "console.log(\"Amount: \" + amount);\n",
    "console.log(\"Memo: \" + memo);\n",
    "\n",
    "amount = parseFloat(amount).toFixed(4);\n",
    "let user = wallet.users[0];\n",
    "let args = {\n",
    "    action: {\n",
    "        account: 'eosio.token',\n",
    "        name: 'transfer',\n",
    "        authorization: [user.session.auth],\n",
    "        data: {\n",
    "            from: user.session.auth.actor,\n",
    "            to: account,\n",
    "            quantity: `${amount} EOS`,\n",
    "            memo: memo,\n",
    "        },\n",
    "    },\n",
    "}\n",
    "var ret = await user.session.transact(args);\n",
    "console.log(ret);\n",
    "alert(JSON.stringify(ret.processed));\n",
    "    });"
   ]
  },
  {
   "cell_type": "markdown",
   "id": "2877b66b",
   "metadata": {},
   "source": [
    "document.getElementById(\"login\").addEventListener(\"click\", async function() {\n",
    "        if (wallet.users.length == 0) {\n",
    "            var ret = await wallet.login();\n",
    "            console.log(\"++++++:\", ret);\n",
    "        }\n",
    "    });"
   ]
  },
  {
   "cell_type": "code",
   "execution_count": null,
   "id": "766d52e6",
   "metadata": {},
   "outputs": [],
   "source": [
    "document.getElementById(\"logout\").addEventListener(\"click\", async function() {\n",
    "    if (wallet.users.length != 0) {\n",
    "        await wallet.logout();\n",
    "    }\n",
    "});\n",
    "</script>\n"
   ]
  },
  {
   "cell_type": "code",
   "execution_count": null,
   "id": "ae7fc16b",
   "metadata": {
    "attributes": {
     "classes": [
      "html"
     ],
     "id": ""
    }
   },
   "outputs": [],
   "source": [
    "<!DOCTYPE html>\n",
    "<html lang=\"zh-CN\">\n",
    "<head>\n",
    "    <meta charset=\"UTF-8\">\n",
    "    <meta name=\"viewport\" content=\"width=device-width, initial-scale=1.0\">\n",
    "    <title>简单的HTML界面</title>\n",
    "    <style>\n",
    "        body {\n",
    "            margin: 0;\n",
    "            min-height: 100vh;\n",
    "            display: flex;\n",
    "            justify-content: center;\n",
    "            align-items: center;\n",
    "            background-color: #f0f0f0;\n",
    "        }\n",
    "        form {\n",
    "            background-color: #f0f0f0;\n",
    "            padding: 20px;\n",
    "            border-radius: 10px;\n",
    "            box-shadow: 0 2px 5px rgba(0, 0, 0, 0.5);\n",
    "        }\n",
    "        form button {\n",
    "            color: #ffffff; /* You can change this color to your desired foreground color */\n",
    "            background-color: #007bff;\n",
    "            padding: 5px 10px;\n",
    "            border: none;\n",
    "            border-radius: 5px;\n",
    "            cursor: pointer;\n",
    "        }\n",
    "    \n",
    "        form button:hover {\n",
    "            background-color: #0056b3;\n",
    "        }\n",
    "        form label {\n",
    "            display: inline-block;\n",
    "            width: 100px; /* Adjust this value to set the desired width for the labels */\n",
    "            text-align: left;\n",
    "            margin-right: 10px;\n",
    "        }\n",
    "    </style>\n",
    "    <script src=\"./anchor.min.js\"></script>\n",
    "    <script>    \n",
    "    const eos = {\n",
    "      chainId: 'aca376f206b8fc25a6ed44dbdc66547c36c6c33e3a119ffbeaef943642f0e906',\n",
    "      rpcEndpoints: [{\n",
    "        protocol: 'https',\n",
    "        host: 'eos.greymass.com',\n",
    "        port: '443',\n",
    "      }]\n",
    "    }\n",
    "    \n",
    "    var wallet = new anchor.Anchor([eos], {\n",
    "      // Required: The app name, required by anchor-link. Short string identifying the app\n",
    "      appName: 'my-example-dapp',\n",
    "      // Optional: a @greymass/eosio APIClient from eosjs for both your use and to use internally in UAL\n",
    "      // client = new APIClient({ provider }),\n",
    "      // Optional: a JsonRpc instance from eosjs for your use\n",
    "      // rpc: new JsonRpc(),\n",
    "      // Optional: The callback service URL to use, defaults to https://cb.anchor.link\n",
    "      service: 'https://cb.anchor.link',\n",
    "      // Optional: A flag to disable the Greymass Fuel integration, defaults to false (enabled)\n",
    "      // disableGreymassFuel: false,\n",
    "      // Optional: An account name on a Fuel enabled network to specify as the referrer for transactions\n",
    "      // fuelReferrer: 'teamgreymass',\n",
    "      // Optional: A flag to enable the Anchor Link UI request status, defaults to true (enabled)\n",
    "      // requestStatus: true,  \n",
    "      // Optional: Whether or not to verify the signatures during user login, defaults to false (disabled)\n",
    "      // verifyProofs: false,\n",
    "    });\n",
    "    \n",
    "    (async () => {\n",
    "        await wallet.init();\n",
    "    })();\n",
    "\n",
    "    window.wallet = wallet;\n",
    "    </script>\n",
    "</head>\n",
    "<body>\n",
    "    <form>\n",
    "        <button type=\"button\" id=\"login\">Login</button>\n",
    "        <button type=\"button\" id=\"logout\">Logout</button><br><br>\n",
    "        <label for=\"account\">To Account:</label>\n",
    "        <input type=\"text\" id=\"account\" name=\"account\"><br><br>\n",
    "        <label for=\"amount\">Quantity:</label>\n",
    "        <input type=\"number\" id=\"amount\" name=\"amount\" value=\"0.0001\"><label>EOS</label><br><br>\n",
    "        <label for=\"memo\">Memo:</label>\n",
    "        <input type=\"text\" id=\"memo\" name=\"memo\" value=\"hello world\"><br><br>\n",
    "        <button type=\"button\" id=\"transfer\">Transfer</button>\n",
    "    </form>\n",
    "\n",
    "    <script>\n",
    "        document.getElementById(\"transfer\").addEventListener(\"click\", async function() {\n",
    "            if (wallet.users.length == 0) {\n",
    "                alert(\"please login first!\");\n",
    "                return;\n",
    "            }\n",
    "            let account = document.getElementById(\"account\").value;\n",
    "            let amount = document.getElementById(\"amount\").value;\n",
    "            let memo = document.getElementById(\"memo\").value;\n",
    "\n",
    "            console.log(\"Account: \" + account);\n",
    "            console.log(\"Amount: \" + amount);\n",
    "            console.log(\"Memo: \" + memo);\n",
    "\n",
    "            amount = parseFloat(amount).toFixed(4);\n",
    "            let user = wallet.users[0];\n",
    "            let args = {\n",
    "                action: {\n",
    "                    account: 'eosio.token',\n",
    "                    name: 'transfer',\n",
    "                    authorization: [user.session.auth],\n",
    "                    data: {\n",
    "                        from: user.session.auth.actor,\n",
    "                        to: account,\n",
    "                        quantity: `${amount} EOS`,\n",
    "                        memo: memo,\n",
    "                    },\n",
    "                },\n",
    "            }\n",
    "            var ret = await user.session.transact(args);\n",
    "            console.log(ret);\n",
    "            alert(JSON.stringify(ret.processed));\n",
    "        });\n",
    "\n",
    "        document.getElementById(\"login\").addEventListener(\"click\", async function() {\n",
    "            if (wallet.users.length == 0) {\n",
    "                var ret = await wallet.login();\n",
    "                console.log(\"++++++:\", ret);\n",
    "            }\n",
    "        });\n",
    "\n",
    "        document.getElementById(\"logout\").addEventListener(\"click\", async function() {\n",
    "            if (wallet.users.length != 0) {\n",
    "                await wallet.logout();\n",
    "            }\n",
    "        });\n",
    "    </script>\n",
    "</body>\n",
    "</html>"
   ]
  },
  {
   "cell_type": "markdown",
   "id": "561b7521",
   "metadata": {},
   "source": [
    "简单解释下：\n",
    "\n",
    "当网页初始化后，会调用`new anchor.Anchor`来创建一个钱包实例。然后调用`wallet.init`进行初始化，注意`init`是一个异步函数"
   ]
  },
  {
   "cell_type": "code",
   "execution_count": null,
   "id": "2fecc69d",
   "metadata": {
    "attributes": {
     "classes": [
      "javascript"
     ],
     "id": ""
    }
   },
   "outputs": [],
   "source": [
    "var wallet = new anchor.Anchor\n",
    "wallet.init()"
   ]
  },
  {
   "cell_type": "markdown",
   "id": "231baaef",
   "metadata": {},
   "source": [
    "点`Login`先连接钱包客户端，会弹出一个对话框，点`Launch Anchor`打开桌面钱包或者手机上打开`Anchor`软件进行扫码进行授权。"
   ]
  },
  {
   "cell_type": "code",
   "execution_count": null,
   "id": "116cb206",
   "metadata": {
    "attributes": {
     "classes": [
      "javascript"
     ],
     "id": ""
    }
   },
   "outputs": [],
   "source": [
    "await wallet.login()"
   ]
  },
  {
   "cell_type": "markdown",
   "id": "a1429524",
   "metadata": {},
   "source": [
    "点`Logout`取消授权"
   ]
  },
  {
   "cell_type": "code",
   "execution_count": null,
   "id": "c8fce997",
   "metadata": {
    "attributes": {
     "classes": [
      "javascript"
     ],
     "id": ""
    }
   },
   "outputs": [],
   "source": [
    "await wallet.logout()"
   ]
  },
  {
   "cell_type": "markdown",
   "id": "e301f6fa",
   "metadata": {},
   "source": [
    "注意`login`和`logout`两个函数都是异步的\n",
    "\n",
    "\n",
    "输入合法的转账账号和转账的数额，然后点`Transfer`即会在手机或者桌面软件上弹出授权对话框进行授权。请确保界面上描述的Action准确无误后才能确认授权。正面是相关的代码，调用了`eosio.token`的`transfer`这个Action。"
   ]
  },
  {
   "cell_type": "code",
   "execution_count": null,
   "id": "66a90157",
   "metadata": {
    "attributes": {
     "classes": [
      "javascript"
     ],
     "id": ""
    }
   },
   "outputs": [],
   "source": [
    "let user = wallet.users[0];\n",
    "let args = {\n",
    "    action: {\n",
    "        account: 'eosio.token',\n",
    "        name: 'transfer',\n",
    "        authorization: [user.session.auth],\n",
    "        data: {\n",
    "            from: user.session.auth.actor,\n",
    "            to: account,\n",
    "            quantity: `${amount} EOS`,\n",
    "            memo: memo,\n",
    "        },\n",
    "    },\n",
    "}\n",
    "var ret = await user.session.transact(args);"
   ]
  },
  {
   "cell_type": "markdown",
   "id": "71145763",
   "metadata": {},
   "source": [
    "总结：\n",
    "\n",
    "上面的例子中`anchor.min.js`是用的用到了正面的库经过webpack后生成的代码"
   ]
  },
  {
   "cell_type": "code",
   "execution_count": null,
   "id": "c6589b38",
   "metadata": {},
   "outputs": [],
   "source": [
    "https://github.com/greymass/ual-anchor"
   ]
  },
  {
   "cell_type": "markdown",
   "id": "b99b4f97",
   "metadata": {},
   "source": [
    "上面的例子只是演示了一个最简单的例子，在实际的例子中，可能要用到`vuejs`,`react`,`svelte`等应用框架，这些框架都可以直接使用`ual-anchor`这个库。实现也可以参考一下的示例："
   ]
  },
  {
   "cell_type": "code",
   "execution_count": null,
   "id": "97910cd8",
   "metadata": {},
   "outputs": [],
   "source": [
    "https://github.com/greymass/ual-anchor-demo"
   ]
  }
 ],
 "metadata": {},
 "nbformat": 4,
 "nbformat_minor": 5
}
